{
 "cells": [
  {
   "cell_type": "code",
   "execution_count": 1,
   "id": "f75e1e29-e4ae-4482-8b18-d9eb76a97138",
   "metadata": {},
   "outputs": [
    {
     "name": "stdout",
     "output_type": "stream",
     "text": [
      "Collecting torch\n",
      "  Downloading torch-2.5.0-cp311-none-macosx_11_0_arm64.whl.metadata (28 kB)\n",
      "Collecting torchvision\n",
      "  Downloading torchvision-0.20.0-cp311-cp311-macosx_11_0_arm64.whl.metadata (6.1 kB)\n",
      "Collecting torchaudio\n",
      "  Downloading torchaudio-2.5.0-cp311-cp311-macosx_11_0_arm64.whl.metadata (6.4 kB)\n",
      "Collecting filelock (from torch)\n",
      "  Downloading filelock-3.16.1-py3-none-any.whl.metadata (2.9 kB)\n",
      "Collecting typing-extensions>=4.8.0 (from torch)\n",
      "  Using cached typing_extensions-4.12.2-py3-none-any.whl.metadata (3.0 kB)\n",
      "Collecting networkx (from torch)\n",
      "  Downloading networkx-3.4.2-py3-none-any.whl.metadata (6.3 kB)\n",
      "Requirement already satisfied: jinja2 in /Library/Frameworks/Python.framework/Versions/3.11/lib/python3.11/site-packages (from torch) (3.1.2)\n",
      "Collecting fsspec (from torch)\n",
      "  Downloading fsspec-2024.10.0-py3-none-any.whl.metadata (11 kB)\n",
      "Collecting sympy==1.13.1 (from torch)\n",
      "  Downloading sympy-1.13.1-py3-none-any.whl.metadata (12 kB)\n",
      "Collecting mpmath<1.4,>=1.1.0 (from sympy==1.13.1->torch)\n",
      "  Downloading mpmath-1.3.0-py3-none-any.whl.metadata (8.6 kB)\n",
      "Requirement already satisfied: numpy in /Library/Frameworks/Python.framework/Versions/3.11/lib/python3.11/site-packages (from torchvision) (1.25.2)\n",
      "Requirement already satisfied: pillow!=8.3.*,>=5.3.0 in /Library/Frameworks/Python.framework/Versions/3.11/lib/python3.11/site-packages (from torchvision) (10.0.0)\n",
      "Requirement already satisfied: MarkupSafe>=2.0 in /Library/Frameworks/Python.framework/Versions/3.11/lib/python3.11/site-packages (from jinja2->torch) (2.1.3)\n",
      "Downloading torch-2.5.0-cp311-none-macosx_11_0_arm64.whl (64.3 MB)\n",
      "\u001b[2K   \u001b[90m━━━━━━━━━━━━━━━━━━━━━━━━━━━━━━━━━━━━━━━━\u001b[0m \u001b[32m64.3/64.3 MB\u001b[0m \u001b[31m31.2 MB/s\u001b[0m eta \u001b[36m0:00:00\u001b[0m00:01\u001b[0m00:01\u001b[0m\n",
      "\u001b[?25hDownloading sympy-1.13.1-py3-none-any.whl (6.2 MB)\n",
      "\u001b[2K   \u001b[90m━━━━━━━━━━━━━━━━━━━━━━━━━━━━━━━━━━━━━━━━\u001b[0m \u001b[32m6.2/6.2 MB\u001b[0m \u001b[31m39.8 MB/s\u001b[0m eta \u001b[36m0:00:00\u001b[0m\n",
      "\u001b[?25hDownloading torchvision-0.20.0-cp311-cp311-macosx_11_0_arm64.whl (1.8 MB)\n",
      "\u001b[2K   \u001b[90m━━━━━━━━━━━━━━━━━━━━━━━━━━━━━━━━━━━━━━━━\u001b[0m \u001b[32m1.8/1.8 MB\u001b[0m \u001b[31m30.2 MB/s\u001b[0m eta \u001b[36m0:00:00\u001b[0m\n",
      "\u001b[?25hDownloading torchaudio-2.5.0-cp311-cp311-macosx_11_0_arm64.whl (1.8 MB)\n",
      "\u001b[2K   \u001b[90m━━━━━━━━━━━━━━━━━━━━━━━━━━━━━━━━━━━━━━━━\u001b[0m \u001b[32m1.8/1.8 MB\u001b[0m \u001b[31m33.0 MB/s\u001b[0m eta \u001b[36m0:00:00\u001b[0m\n",
      "\u001b[?25hUsing cached typing_extensions-4.12.2-py3-none-any.whl (37 kB)\n",
      "Downloading filelock-3.16.1-py3-none-any.whl (16 kB)\n",
      "Downloading fsspec-2024.10.0-py3-none-any.whl (179 kB)\n",
      "Downloading networkx-3.4.2-py3-none-any.whl (1.7 MB)\n",
      "\u001b[2K   \u001b[90m━━━━━━━━━━━━━━━━━━━━━━━━━━━━━━━━━━━━━━━━\u001b[0m \u001b[32m1.7/1.7 MB\u001b[0m \u001b[31m30.5 MB/s\u001b[0m eta \u001b[36m0:00:00\u001b[0m\n",
      "\u001b[?25hDownloading mpmath-1.3.0-py3-none-any.whl (536 kB)\n",
      "\u001b[2K   \u001b[90m━━━━━━━━━━━━━━━━━━━━━━━━━━━━━━━━━━━━━━━━\u001b[0m \u001b[32m536.2/536.2 kB\u001b[0m \u001b[31m21.0 MB/s\u001b[0m eta \u001b[36m0:00:00\u001b[0m\n",
      "\u001b[?25hInstalling collected packages: mpmath, typing-extensions, sympy, networkx, fsspec, filelock, torch, torchvision, torchaudio\n",
      "  Attempting uninstall: typing-extensions\n",
      "    Found existing installation: typing_extensions 4.7.1\n",
      "    Uninstalling typing_extensions-4.7.1:\n",
      "      Successfully uninstalled typing_extensions-4.7.1\n",
      "Successfully installed filelock-3.16.1 fsspec-2024.10.0 mpmath-1.3.0 networkx-3.4.2 sympy-1.13.1 torch-2.5.0 torchaudio-2.5.0 torchvision-0.20.0 typing-extensions-4.12.2\n",
      "Note: you may need to restart the kernel to use updated packages.\n"
     ]
    }
   ],
   "source": [
    "pip install torch torchvision torchaudio"
   ]
  },
  {
   "cell_type": "code",
   "execution_count": 2,
   "id": "88f7a59e-62b2-44d0-92a7-a3227eefd8ed",
   "metadata": {},
   "outputs": [
    {
     "name": "stdout",
     "output_type": "stream",
     "text": [
      "Requirement already satisfied: numpy in /Library/Frameworks/Python.framework/Versions/3.11/lib/python3.11/site-packages (1.25.2)\n",
      "Requirement already satisfied: pandas in /Library/Frameworks/Python.framework/Versions/3.11/lib/python3.11/site-packages (2.1.0)\n",
      "Requirement already satisfied: matplotlib in /Library/Frameworks/Python.framework/Versions/3.11/lib/python3.11/site-packages (3.7.2)\n",
      "Requirement already satisfied: tqdm in /Library/Frameworks/Python.framework/Versions/3.11/lib/python3.11/site-packages (4.66.4)\n",
      "Requirement already satisfied: scikit-learn in /Library/Frameworks/Python.framework/Versions/3.11/lib/python3.11/site-packages (1.3.0)\n",
      "Collecting torchinfo\n",
      "  Downloading torchinfo-1.8.0-py3-none-any.whl.metadata (21 kB)\n",
      "Requirement already satisfied: jupyter in /Library/Frameworks/Python.framework/Versions/3.11/lib/python3.11/site-packages (1.0.0)\n",
      "Requirement already satisfied: python-dateutil>=2.8.2 in /Library/Frameworks/Python.framework/Versions/3.11/lib/python3.11/site-packages (from pandas) (2.8.2)\n",
      "Requirement already satisfied: pytz>=2020.1 in /Library/Frameworks/Python.framework/Versions/3.11/lib/python3.11/site-packages (from pandas) (2023.3.post1)\n",
      "Requirement already satisfied: tzdata>=2022.1 in /Library/Frameworks/Python.framework/Versions/3.11/lib/python3.11/site-packages (from pandas) (2023.3)\n",
      "Requirement already satisfied: contourpy>=1.0.1 in /Library/Frameworks/Python.framework/Versions/3.11/lib/python3.11/site-packages (from matplotlib) (1.1.0)\n",
      "Requirement already satisfied: cycler>=0.10 in /Library/Frameworks/Python.framework/Versions/3.11/lib/python3.11/site-packages (from matplotlib) (0.11.0)\n",
      "Requirement already satisfied: fonttools>=4.22.0 in /Library/Frameworks/Python.framework/Versions/3.11/lib/python3.11/site-packages (from matplotlib) (4.42.1)\n",
      "Requirement already satisfied: kiwisolver>=1.0.1 in /Library/Frameworks/Python.framework/Versions/3.11/lib/python3.11/site-packages (from matplotlib) (1.4.5)\n",
      "Requirement already satisfied: packaging>=20.0 in /Library/Frameworks/Python.framework/Versions/3.11/lib/python3.11/site-packages (from matplotlib) (23.1)\n",
      "Requirement already satisfied: pillow>=6.2.0 in /Library/Frameworks/Python.framework/Versions/3.11/lib/python3.11/site-packages (from matplotlib) (10.0.0)\n",
      "Requirement already satisfied: pyparsing<3.1,>=2.3.1 in /Library/Frameworks/Python.framework/Versions/3.11/lib/python3.11/site-packages (from matplotlib) (3.0.9)\n",
      "Requirement already satisfied: scipy>=1.5.0 in /Library/Frameworks/Python.framework/Versions/3.11/lib/python3.11/site-packages (from scikit-learn) (1.11.2)\n",
      "Requirement already satisfied: joblib>=1.1.1 in /Library/Frameworks/Python.framework/Versions/3.11/lib/python3.11/site-packages (from scikit-learn) (1.3.2)\n",
      "Requirement already satisfied: threadpoolctl>=2.0.0 in /Library/Frameworks/Python.framework/Versions/3.11/lib/python3.11/site-packages (from scikit-learn) (3.2.0)\n",
      "Requirement already satisfied: notebook in /Library/Frameworks/Python.framework/Versions/3.11/lib/python3.11/site-packages (from jupyter) (6.0.0)\n",
      "Requirement already satisfied: qtconsole in /Library/Frameworks/Python.framework/Versions/3.11/lib/python3.11/site-packages (from jupyter) (5.4.4)\n",
      "Requirement already satisfied: jupyter-console in /Library/Frameworks/Python.framework/Versions/3.11/lib/python3.11/site-packages (from jupyter) (6.6.3)\n",
      "Requirement already satisfied: nbconvert in /Library/Frameworks/Python.framework/Versions/3.11/lib/python3.11/site-packages (from jupyter) (7.8.0)\n",
      "Requirement already satisfied: ipykernel in /Library/Frameworks/Python.framework/Versions/3.11/lib/python3.11/site-packages (from jupyter) (6.25.2)\n",
      "Requirement already satisfied: ipywidgets in /Library/Frameworks/Python.framework/Versions/3.11/lib/python3.11/site-packages (from jupyter) (8.1.0)\n",
      "Requirement already satisfied: six>=1.5 in /Library/Frameworks/Python.framework/Versions/3.11/lib/python3.11/site-packages (from python-dateutil>=2.8.2->pandas) (1.16.0)\n",
      "Requirement already satisfied: appnope in /Library/Frameworks/Python.framework/Versions/3.11/lib/python3.11/site-packages (from ipykernel->jupyter) (0.1.3)\n",
      "Requirement already satisfied: comm>=0.1.1 in /Library/Frameworks/Python.framework/Versions/3.11/lib/python3.11/site-packages (from ipykernel->jupyter) (0.1.4)\n",
      "Requirement already satisfied: debugpy>=1.6.5 in /Library/Frameworks/Python.framework/Versions/3.11/lib/python3.11/site-packages (from ipykernel->jupyter) (1.7.0)\n",
      "Requirement already satisfied: ipython>=7.23.1 in /Library/Frameworks/Python.framework/Versions/3.11/lib/python3.11/site-packages (from ipykernel->jupyter) (8.15.0)\n",
      "Requirement already satisfied: jupyter-client>=6.1.12 in /Library/Frameworks/Python.framework/Versions/3.11/lib/python3.11/site-packages (from ipykernel->jupyter) (8.3.1)\n",
      "Requirement already satisfied: jupyter-core!=5.0.*,>=4.12 in /Library/Frameworks/Python.framework/Versions/3.11/lib/python3.11/site-packages (from ipykernel->jupyter) (5.3.1)\n",
      "Requirement already satisfied: matplotlib-inline>=0.1 in /Library/Frameworks/Python.framework/Versions/3.11/lib/python3.11/site-packages (from ipykernel->jupyter) (0.1.6)\n",
      "Requirement already satisfied: nest-asyncio in /Library/Frameworks/Python.framework/Versions/3.11/lib/python3.11/site-packages (from ipykernel->jupyter) (1.5.7)\n",
      "Requirement already satisfied: psutil in /Library/Frameworks/Python.framework/Versions/3.11/lib/python3.11/site-packages (from ipykernel->jupyter) (5.9.5)\n",
      "Requirement already satisfied: pyzmq>=20 in /Library/Frameworks/Python.framework/Versions/3.11/lib/python3.11/site-packages (from ipykernel->jupyter) (25.1.1)\n",
      "Requirement already satisfied: tornado>=6.1 in /Library/Frameworks/Python.framework/Versions/3.11/lib/python3.11/site-packages (from ipykernel->jupyter) (6.3.3)\n",
      "Requirement already satisfied: traitlets>=5.4.0 in /Library/Frameworks/Python.framework/Versions/3.11/lib/python3.11/site-packages (from ipykernel->jupyter) (5.9.0)\n",
      "Requirement already satisfied: widgetsnbextension~=4.0.7 in /Library/Frameworks/Python.framework/Versions/3.11/lib/python3.11/site-packages (from ipywidgets->jupyter) (4.0.8)\n",
      "Requirement already satisfied: jupyterlab-widgets~=3.0.7 in /Library/Frameworks/Python.framework/Versions/3.11/lib/python3.11/site-packages (from ipywidgets->jupyter) (3.0.8)\n",
      "Requirement already satisfied: prompt-toolkit>=3.0.30 in /Library/Frameworks/Python.framework/Versions/3.11/lib/python3.11/site-packages (from jupyter-console->jupyter) (3.0.39)\n",
      "Requirement already satisfied: pygments in /Library/Frameworks/Python.framework/Versions/3.11/lib/python3.11/site-packages (from jupyter-console->jupyter) (2.16.1)\n",
      "Requirement already satisfied: beautifulsoup4 in /Library/Frameworks/Python.framework/Versions/3.11/lib/python3.11/site-packages (from nbconvert->jupyter) (4.12.2)\n",
      "Requirement already satisfied: bleach!=5.0.0 in /Library/Frameworks/Python.framework/Versions/3.11/lib/python3.11/site-packages (from nbconvert->jupyter) (6.0.0)\n",
      "Requirement already satisfied: defusedxml in /Library/Frameworks/Python.framework/Versions/3.11/lib/python3.11/site-packages (from nbconvert->jupyter) (0.7.1)\n",
      "Requirement already satisfied: jinja2>=3.0 in /Library/Frameworks/Python.framework/Versions/3.11/lib/python3.11/site-packages (from nbconvert->jupyter) (3.1.2)\n",
      "Requirement already satisfied: jupyterlab-pygments in /Library/Frameworks/Python.framework/Versions/3.11/lib/python3.11/site-packages (from nbconvert->jupyter) (0.2.2)\n",
      "Requirement already satisfied: markupsafe>=2.0 in /Library/Frameworks/Python.framework/Versions/3.11/lib/python3.11/site-packages (from nbconvert->jupyter) (2.1.3)\n",
      "Requirement already satisfied: mistune<4,>=2.0.3 in /Library/Frameworks/Python.framework/Versions/3.11/lib/python3.11/site-packages (from nbconvert->jupyter) (3.0.1)\n",
      "Requirement already satisfied: nbclient>=0.5.0 in /Library/Frameworks/Python.framework/Versions/3.11/lib/python3.11/site-packages (from nbconvert->jupyter) (0.8.0)\n",
      "Requirement already satisfied: nbformat>=5.7 in /Library/Frameworks/Python.framework/Versions/3.11/lib/python3.11/site-packages (from nbconvert->jupyter) (5.9.2)\n",
      "Requirement already satisfied: pandocfilters>=1.4.1 in /Library/Frameworks/Python.framework/Versions/3.11/lib/python3.11/site-packages (from nbconvert->jupyter) (1.5.0)\n",
      "Requirement already satisfied: tinycss2 in /Library/Frameworks/Python.framework/Versions/3.11/lib/python3.11/site-packages (from nbconvert->jupyter) (1.2.1)\n",
      "Requirement already satisfied: ipython-genutils in /Library/Frameworks/Python.framework/Versions/3.11/lib/python3.11/site-packages (from notebook->jupyter) (0.2.0)\n",
      "Requirement already satisfied: Send2Trash in /Library/Frameworks/Python.framework/Versions/3.11/lib/python3.11/site-packages (from notebook->jupyter) (1.8.2)\n",
      "Requirement already satisfied: terminado>=0.8.1 in /Library/Frameworks/Python.framework/Versions/3.11/lib/python3.11/site-packages (from notebook->jupyter) (0.17.1)\n",
      "Requirement already satisfied: prometheus-client in /Library/Frameworks/Python.framework/Versions/3.11/lib/python3.11/site-packages (from notebook->jupyter) (0.17.1)\n",
      "Requirement already satisfied: qtpy>=2.4.0 in /Library/Frameworks/Python.framework/Versions/3.11/lib/python3.11/site-packages (from qtconsole->jupyter) (2.4.0)\n",
      "Requirement already satisfied: webencodings in /Library/Frameworks/Python.framework/Versions/3.11/lib/python3.11/site-packages (from bleach!=5.0.0->nbconvert->jupyter) (0.5.1)\n",
      "Requirement already satisfied: backcall in /Library/Frameworks/Python.framework/Versions/3.11/lib/python3.11/site-packages (from ipython>=7.23.1->ipykernel->jupyter) (0.2.0)\n",
      "Requirement already satisfied: decorator in /Users/suyuanyuan/Library/Python/3.11/lib/python/site-packages (from ipython>=7.23.1->ipykernel->jupyter) (5.1.1)\n",
      "Requirement already satisfied: jedi>=0.16 in /Library/Frameworks/Python.framework/Versions/3.11/lib/python3.11/site-packages (from ipython>=7.23.1->ipykernel->jupyter) (0.19.0)\n",
      "Requirement already satisfied: pickleshare in /Library/Frameworks/Python.framework/Versions/3.11/lib/python3.11/site-packages (from ipython>=7.23.1->ipykernel->jupyter) (0.7.5)\n",
      "Requirement already satisfied: stack-data in /Library/Frameworks/Python.framework/Versions/3.11/lib/python3.11/site-packages (from ipython>=7.23.1->ipykernel->jupyter) (0.6.2)\n",
      "Requirement already satisfied: pexpect>4.3 in /Library/Frameworks/Python.framework/Versions/3.11/lib/python3.11/site-packages (from ipython>=7.23.1->ipykernel->jupyter) (4.8.0)\n",
      "Requirement already satisfied: platformdirs>=2.5 in /Library/Frameworks/Python.framework/Versions/3.11/lib/python3.11/site-packages (from jupyter-core!=5.0.*,>=4.12->ipykernel->jupyter) (3.10.0)\n",
      "Requirement already satisfied: fastjsonschema in /Library/Frameworks/Python.framework/Versions/3.11/lib/python3.11/site-packages (from nbformat>=5.7->nbconvert->jupyter) (2.18.0)\n",
      "Requirement already satisfied: jsonschema>=2.6 in /Library/Frameworks/Python.framework/Versions/3.11/lib/python3.11/site-packages (from nbformat>=5.7->nbconvert->jupyter) (4.19.0)\n",
      "Requirement already satisfied: wcwidth in /Library/Frameworks/Python.framework/Versions/3.11/lib/python3.11/site-packages (from prompt-toolkit>=3.0.30->jupyter-console->jupyter) (0.2.6)\n",
      "Requirement already satisfied: ptyprocess in /Users/suyuanyuan/Library/Python/3.11/lib/python/site-packages (from terminado>=0.8.1->notebook->jupyter) (0.7.0)\n",
      "Requirement already satisfied: soupsieve>1.2 in /Library/Frameworks/Python.framework/Versions/3.11/lib/python3.11/site-packages (from beautifulsoup4->nbconvert->jupyter) (2.5)\n",
      "Requirement already satisfied: parso<0.9.0,>=0.8.3 in /Library/Frameworks/Python.framework/Versions/3.11/lib/python3.11/site-packages (from jedi>=0.16->ipython>=7.23.1->ipykernel->jupyter) (0.8.3)\n",
      "Requirement already satisfied: attrs>=22.2.0 in /Library/Frameworks/Python.framework/Versions/3.11/lib/python3.11/site-packages (from jsonschema>=2.6->nbformat>=5.7->nbconvert->jupyter) (23.1.0)\n",
      "Requirement already satisfied: jsonschema-specifications>=2023.03.6 in /Library/Frameworks/Python.framework/Versions/3.11/lib/python3.11/site-packages (from jsonschema>=2.6->nbformat>=5.7->nbconvert->jupyter) (2023.7.1)\n",
      "Requirement already satisfied: referencing>=0.28.4 in /Library/Frameworks/Python.framework/Versions/3.11/lib/python3.11/site-packages (from jsonschema>=2.6->nbformat>=5.7->nbconvert->jupyter) (0.30.2)\n",
      "Requirement already satisfied: rpds-py>=0.7.1 in /Library/Frameworks/Python.framework/Versions/3.11/lib/python3.11/site-packages (from jsonschema>=2.6->nbformat>=5.7->nbconvert->jupyter) (0.10.2)\n",
      "Requirement already satisfied: executing>=1.2.0 in /Library/Frameworks/Python.framework/Versions/3.11/lib/python3.11/site-packages (from stack-data->ipython>=7.23.1->ipykernel->jupyter) (1.2.0)\n",
      "Requirement already satisfied: asttokens>=2.1.0 in /Library/Frameworks/Python.framework/Versions/3.11/lib/python3.11/site-packages (from stack-data->ipython>=7.23.1->ipykernel->jupyter) (2.4.0)\n",
      "Requirement already satisfied: pure-eval in /Library/Frameworks/Python.framework/Versions/3.11/lib/python3.11/site-packages (from stack-data->ipython>=7.23.1->ipykernel->jupyter) (0.2.2)\n",
      "Downloading torchinfo-1.8.0-py3-none-any.whl (23 kB)\n",
      "Installing collected packages: torchinfo\n",
      "Successfully installed torchinfo-1.8.0\n",
      "Note: you may need to restart the kernel to use updated packages.\n"
     ]
    }
   ],
   "source": [
    "pip install numpy pandas matplotlib tqdm scikit-learn torchinfo jupyter"
   ]
  },
  {
   "cell_type": "code",
   "execution_count": 3,
   "id": "14cddf32-95ec-4608-827a-25b1bd30827b",
   "metadata": {},
   "outputs": [
    {
     "name": "stdout",
     "output_type": "stream",
     "text": [
      "Traceback (most recent call last):\n",
      "  File \"<string>\", line 1, in <module>\n",
      "ModuleNotFoundError: No module named 'torch'\n"
     ]
    }
   ],
   "source": [
    "!python -c \"import torch; print(torch.__version__); print(torch.cuda.is_available())\""
   ]
  },
  {
   "cell_type": "code",
   "execution_count": 4,
   "id": "c747fafb-3bed-4507-88f5-ebed74ad7c0c",
   "metadata": {},
   "outputs": [
    {
     "name": "stdout",
     "output_type": "stream",
     "text": [
      "正在下载数据...\n",
      "数据下载完成。\n",
      "正在解压数据...\n",
      "数据解压完成。\n"
     ]
    }
   ],
   "source": [
    "import os\n",
    "import requests\n",
    "import zipfile\n",
    "\n",
    "# 定义数据的URL和路径\n",
    "data_url = 'https://raw.githubusercontent.com/zcakhaa/DeepLOB-Deep-Convolutional-Neural-Networks-for-Limit-Order-Books/master/data/data.zip'\n",
    "data_zip_path = 'data.zip'\n",
    "data_folder = 'data'  # 解压后的文件夹名称\n",
    "\n",
    "# 检查 data.zip 是否存在\n",
    "if not os.path.isfile(data_zip_path):\n",
    "    print('正在下载数据...')\n",
    "    response = requests.get(data_url, stream=True)\n",
    "    with open(data_zip_path, 'wb') as f:\n",
    "        for chunk in response.iter_content(chunk_size=1024):\n",
    "            if chunk:\n",
    "                f.write(chunk)\n",
    "    print('数据下载完成。')\n",
    "\n",
    "    # 解压 data.zip\n",
    "    print('正在解压数据...')\n",
    "    with zipfile.ZipFile(data_zip_path, 'r') as zip_ref:\n",
    "        zip_ref.extractall('.')\n",
    "    print('数据解压完成。')\n",
    "else:\n",
    "    print('data.zip 已存在。')\n",
    "    # 检查解压后的文件夹是否存在\n",
    "    if not os.path.exists(data_folder):\n",
    "        print('正在解压数据...')\n",
    "        with zipfile.ZipFile(data_zip_path, 'r') as zip_ref:\n",
    "            zip_ref.extractall('.')\n",
    "        print('数据解压完成。')\n",
    "    else:\n",
    "        print('数据已解压。')"
   ]
  },
  {
   "cell_type": "code",
   "execution_count": 5,
   "id": "38826bbd-b8d3-4321-9d7c-89e2e93b16d4",
   "metadata": {},
   "outputs": [],
   "source": [
    "# load packages\n",
    "import pandas as pd\n",
    "import pickle\n",
    "import numpy as np\n",
    "import matplotlib.pyplot as plt\n",
    "from datetime import datetime\n",
    "from tqdm import tqdm \n",
    "from sklearn.metrics import accuracy_score, classification_report\n",
    "\n",
    "import torch\n",
    "import torch.nn.functional as F\n",
    "from torch.utils import data\n",
    "from torchinfo import summary\n",
    "import torch.nn as nn\n",
    "import torch.optim as optim\n",
    "# from sklearn.model_selection import train_test_split\n",
    "# X_train, X_test, y_train, y_test = train_test_split(data.data, data.target, test_size=0.33)\n",
    "# N, D = X_train.shape"
   ]
  },
  {
   "cell_type": "code",
   "execution_count": 6,
   "id": "0fed8945-b994-4ef6-ac7c-e465cc9f2791",
   "metadata": {},
   "outputs": [
    {
     "name": "stdout",
     "output_type": "stream",
     "text": [
      "cpu\n"
     ]
    }
   ],
   "source": [
    "device = torch.device(\"cuda:0\" if torch.cuda.is_available() else \"cpu\")\n",
    "print(device)"
   ]
  },
  {
   "cell_type": "code",
   "execution_count": 7,
   "id": "176ac8e7-d2d3-4ece-ba2c-ce5e85a0e191",
   "metadata": {},
   "outputs": [],
   "source": [
    "def prepare_x(data):\n",
    "    df1 = data[:40, :].T\n",
    "    return np.array(df1)\n",
    "\n",
    "def get_label(data):\n",
    "    lob = data[-5:, :].T\n",
    "    return lob\n",
    "\n",
    "def data_classification(X, Y, T):\n",
    "    [N, D] = X.shape\n",
    "    df = np.array(X)\n",
    "\n",
    "    dY = np.array(Y)\n",
    "\n",
    "    dataY = dY[T - 1:N]\n",
    "\n",
    "    dataX = np.zeros((N - T + 1, T, D))\n",
    "    for i in range(T, N + 1):\n",
    "        dataX[i - T] = df[i - T:i, :]\n",
    "\n",
    "    return dataX, dataY\n",
    "\n",
    "def torch_data(x, y):\n",
    "    x = torch.from_numpy(x)\n",
    "    x = torch.unsqueeze(x, 1)\n",
    "    y = torch.from_numpy(y)\n",
    "    y = F.one_hot(y, num_classes=3)\n",
    "    return x, y"
   ]
  },
  {
   "cell_type": "code",
   "execution_count": 8,
   "id": "c19ee87a-6dfe-48bf-bf01-198ca725b36e",
   "metadata": {},
   "outputs": [],
   "source": [
    "class Dataset(data.Dataset):\n",
    "    \"\"\"Characterizes a dataset for PyTorch\"\"\"\n",
    "    def __init__(self, data, k, num_classes, T):\n",
    "        \"\"\"Initialization\"\"\" \n",
    "        self.k = k\n",
    "        self.num_classes = num_classes\n",
    "        self.T = T\n",
    "            \n",
    "        x = prepare_x(data)\n",
    "        y = get_label(data)\n",
    "        x, y = data_classification(x, y, self.T)\n",
    "        y = y[:,self.k] - 1\n",
    "        self.length = len(x)\n",
    "\n",
    "        x = torch.from_numpy(x)\n",
    "        self.x = torch.unsqueeze(x, 1)\n",
    "        self.y = torch.from_numpy(y)\n",
    "\n",
    "    def __len__(self):\n",
    "        \"\"\"Denotes the total number of samples\"\"\"\n",
    "        return self.length\n",
    "\n",
    "    def __getitem__(self, index):\n",
    "        \"\"\"Generates samples of data\"\"\"\n",
    "        return self.x[index], self.y[index]"
   ]
  },
  {
   "cell_type": "code",
   "execution_count": 9,
   "id": "7d1515a5-1f2a-48cc-b2d4-bb632de73ca0",
   "metadata": {},
   "outputs": [
    {
     "name": "stdout",
     "output_type": "stream",
     "text": [
      "(149, 203800) (149, 50950) (149, 139587)\n"
     ]
    }
   ],
   "source": [
    "# please change the data_path to your local path\n",
    "# data_path = '/nfs/home/zihaoz/limit_order_book/data'\n",
    "\n",
    "dec_data = np.loadtxt('Train_Dst_NoAuction_DecPre_CF_7.txt')\n",
    "dec_train = dec_data[:, :int(np.floor(dec_data.shape[1] * 0.8))]\n",
    "dec_val = dec_data[:, int(np.floor(dec_data.shape[1] * 0.8)):]\n",
    "\n",
    "dec_test1 = np.loadtxt('Test_Dst_NoAuction_DecPre_CF_7.txt')\n",
    "dec_test2 = np.loadtxt('Test_Dst_NoAuction_DecPre_CF_8.txt')\n",
    "dec_test3 = np.loadtxt('Test_Dst_NoAuction_DecPre_CF_9.txt')\n",
    "dec_test = np.hstack((dec_test1, dec_test2, dec_test3))\n",
    "\n",
    "print(dec_train.shape, dec_val.shape, dec_test.shape)"
   ]
  },
  {
   "cell_type": "code",
   "execution_count": 10,
   "id": "05c96b7f-fc17-4270-8b53-b0009044bfdf",
   "metadata": {},
   "outputs": [
    {
     "name": "stdout",
     "output_type": "stream",
     "text": [
      "torch.Size([203701, 1, 100, 40]) torch.Size([203701])\n"
     ]
    }
   ],
   "source": [
    "batch_size = 64\n",
    "\n",
    "dataset_train = Dataset(data=dec_train, k=4, num_classes=3, T=100)\n",
    "dataset_val = Dataset(data=dec_val, k=4, num_classes=3, T=100)\n",
    "dataset_test = Dataset(data=dec_test, k=4, num_classes=3, T=100)\n",
    "\n",
    "train_loader = torch.utils.data.DataLoader(dataset=dataset_train, batch_size=batch_size, shuffle=True)\n",
    "val_loader = torch.utils.data.DataLoader(dataset=dataset_val, batch_size=batch_size, shuffle=False)\n",
    "test_loader = torch.utils.data.DataLoader(dataset=dataset_test, batch_size=batch_size, shuffle=False)\n",
    "\n",
    "print(dataset_train.x.shape, dataset_train.y.shape)"
   ]
  },
  {
   "cell_type": "code",
   "execution_count": 11,
   "id": "221e82ef-8dee-4422-b112-bc5f5f3649e6",
   "metadata": {},
   "outputs": [
    {
     "name": "stdout",
     "output_type": "stream",
     "text": [
      "tensor([[[[0.1238, 0.0165, 0.1237,  ..., 0.0250, 0.1228, 0.0380],\n",
      "          [0.1238, 0.0373, 0.1237,  ..., 0.0250, 0.1228, 0.0380],\n",
      "          [0.1238, 0.0504, 0.1237,  ..., 0.0250, 0.1228, 0.0380],\n",
      "          ...,\n",
      "          [0.1241, 0.0213, 0.1237,  ..., 0.0363, 0.1228, 0.0289],\n",
      "          [0.1241, 0.0277, 0.1237,  ..., 0.0363, 0.1228, 0.0289],\n",
      "          [0.1241, 0.0258, 0.1237,  ..., 0.0363, 0.1228, 0.0289]]]],\n",
      "       dtype=torch.float64)\n",
      "tensor([0.], dtype=torch.float64)\n",
      "torch.Size([1, 1, 100, 40]) torch.Size([1])\n"
     ]
    }
   ],
   "source": [
    "tmp_loader = torch.utils.data.DataLoader(dataset=dataset_train, batch_size=1, shuffle=True)\n",
    "\n",
    "for x, y in tmp_loader:\n",
    "    print(x)\n",
    "    print(y)\n",
    "    print(x.shape, y.shape)\n",
    "    break"
   ]
  },
  {
   "cell_type": "code",
   "execution_count": 12,
   "id": "933f4574-869d-4116-9f0c-b7b82d747a0b",
   "metadata": {},
   "outputs": [],
   "source": [
    "class deeplob(nn.Module):\n",
    "    def __init__(self, y_len):\n",
    "        super().__init__()\n",
    "        self.y_len = y_len\n",
    "        \n",
    "        # convolution blocks\n",
    "        self.conv1 = nn.Sequential(\n",
    "            nn.Conv2d(in_channels=1, out_channels=32, kernel_size=(1,2), stride=(1,2)),\n",
    "            nn.LeakyReLU(negative_slope=0.01),\n",
    "#             nn.Tanh(),\n",
    "            nn.BatchNorm2d(32),\n",
    "            nn.Conv2d(in_channels=32, out_channels=32, kernel_size=(4,1)),\n",
    "            nn.LeakyReLU(negative_slope=0.01),\n",
    "            nn.BatchNorm2d(32),\n",
    "            nn.Conv2d(in_channels=32, out_channels=32, kernel_size=(4,1)),\n",
    "            nn.LeakyReLU(negative_slope=0.01),\n",
    "            nn.BatchNorm2d(32),\n",
    "        )\n",
    "        self.conv2 = nn.Sequential(\n",
    "            nn.Conv2d(in_channels=32, out_channels=32, kernel_size=(1,2), stride=(1,2)),\n",
    "            nn.Tanh(),\n",
    "            nn.BatchNorm2d(32),\n",
    "            nn.Conv2d(in_channels=32, out_channels=32, kernel_size=(4,1)),\n",
    "            nn.Tanh(),\n",
    "            nn.BatchNorm2d(32),\n",
    "            nn.Conv2d(in_channels=32, out_channels=32, kernel_size=(4,1)),\n",
    "            nn.Tanh(),\n",
    "            nn.BatchNorm2d(32),\n",
    "        )\n",
    "        self.conv3 = nn.Sequential(\n",
    "            nn.Conv2d(in_channels=32, out_channels=32, kernel_size=(1,10)),\n",
    "            nn.LeakyReLU(negative_slope=0.01),\n",
    "            nn.BatchNorm2d(32),\n",
    "            nn.Conv2d(in_channels=32, out_channels=32, kernel_size=(4,1)),\n",
    "            nn.LeakyReLU(negative_slope=0.01),\n",
    "            nn.BatchNorm2d(32),\n",
    "            nn.Conv2d(in_channels=32, out_channels=32, kernel_size=(4,1)),\n",
    "            nn.LeakyReLU(negative_slope=0.01),\n",
    "            nn.BatchNorm2d(32),\n",
    "        )\n",
    "        \n",
    "        # inception moduels\n",
    "        self.inp1 = nn.Sequential(\n",
    "            nn.Conv2d(in_channels=32, out_channels=64, kernel_size=(1,1), padding='same'),\n",
    "            nn.LeakyReLU(negative_slope=0.01),\n",
    "            nn.BatchNorm2d(64),\n",
    "            nn.Conv2d(in_channels=64, out_channels=64, kernel_size=(3,1), padding='same'),\n",
    "            nn.LeakyReLU(negative_slope=0.01),\n",
    "            nn.BatchNorm2d(64),\n",
    "        )\n",
    "        self.inp2 = nn.Sequential(\n",
    "            nn.Conv2d(in_channels=32, out_channels=64, kernel_size=(1,1), padding='same'),\n",
    "            nn.LeakyReLU(negative_slope=0.01),\n",
    "            nn.BatchNorm2d(64),\n",
    "            nn.Conv2d(in_channels=64, out_channels=64, kernel_size=(5,1), padding='same'),\n",
    "            nn.LeakyReLU(negative_slope=0.01),\n",
    "            nn.BatchNorm2d(64),\n",
    "        )\n",
    "        self.inp3 = nn.Sequential(\n",
    "            nn.MaxPool2d((3, 1), stride=(1, 1), padding=(1, 0)),\n",
    "            nn.Conv2d(in_channels=32, out_channels=64, kernel_size=(1,1), padding='same'),\n",
    "            nn.LeakyReLU(negative_slope=0.01),\n",
    "            nn.BatchNorm2d(64),\n",
    "        )\n",
    "        \n",
    "        # lstm layers\n",
    "        self.lstm = nn.LSTM(input_size=192, hidden_size=64, num_layers=1, batch_first=True)\n",
    "        self.fc1 = nn.Linear(64, self.y_len)\n",
    "\n",
    "    def forward(self, x):\n",
    "        # h0: (number of hidden layers, batch size, hidden size)\n",
    "        h0 = torch.zeros(1, x.size(0), 64).to(device)\n",
    "        c0 = torch.zeros(1, x.size(0), 64).to(device)\n",
    "    \n",
    "        x = self.conv1(x)\n",
    "        x = self.conv2(x)\n",
    "        x = self.conv3(x)\n",
    "        \n",
    "        x_inp1 = self.inp1(x)\n",
    "        x_inp2 = self.inp2(x)\n",
    "        x_inp3 = self.inp3(x)  \n",
    "        \n",
    "        x = torch.cat((x_inp1, x_inp2, x_inp3), dim=1)\n",
    "        \n",
    "#         x = torch.transpose(x, 1, 2)\n",
    "        x = x.permute(0, 2, 1, 3)\n",
    "        x = torch.reshape(x, (-1, x.shape[1], x.shape[2]))\n",
    "        \n",
    "        x, _ = self.lstm(x, (h0, c0))\n",
    "        x = x[:, -1, :]\n",
    "        x = self.fc1(x)\n",
    "        forecast_y = torch.softmax(x, dim=1)\n",
    "        \n",
    "        return forecast_y"
   ]
  },
  {
   "cell_type": "code",
   "execution_count": 13,
   "id": "553493f1-5fbc-4d62-b353-b9d42d3cbe39",
   "metadata": {},
   "outputs": [
    {
     "data": {
      "text/plain": [
       "deeplob(\n",
       "  (conv1): Sequential(\n",
       "    (0): Conv2d(1, 32, kernel_size=(1, 2), stride=(1, 2))\n",
       "    (1): LeakyReLU(negative_slope=0.01)\n",
       "    (2): BatchNorm2d(32, eps=1e-05, momentum=0.1, affine=True, track_running_stats=True)\n",
       "    (3): Conv2d(32, 32, kernel_size=(4, 1), stride=(1, 1))\n",
       "    (4): LeakyReLU(negative_slope=0.01)\n",
       "    (5): BatchNorm2d(32, eps=1e-05, momentum=0.1, affine=True, track_running_stats=True)\n",
       "    (6): Conv2d(32, 32, kernel_size=(4, 1), stride=(1, 1))\n",
       "    (7): LeakyReLU(negative_slope=0.01)\n",
       "    (8): BatchNorm2d(32, eps=1e-05, momentum=0.1, affine=True, track_running_stats=True)\n",
       "  )\n",
       "  (conv2): Sequential(\n",
       "    (0): Conv2d(32, 32, kernel_size=(1, 2), stride=(1, 2))\n",
       "    (1): Tanh()\n",
       "    (2): BatchNorm2d(32, eps=1e-05, momentum=0.1, affine=True, track_running_stats=True)\n",
       "    (3): Conv2d(32, 32, kernel_size=(4, 1), stride=(1, 1))\n",
       "    (4): Tanh()\n",
       "    (5): BatchNorm2d(32, eps=1e-05, momentum=0.1, affine=True, track_running_stats=True)\n",
       "    (6): Conv2d(32, 32, kernel_size=(4, 1), stride=(1, 1))\n",
       "    (7): Tanh()\n",
       "    (8): BatchNorm2d(32, eps=1e-05, momentum=0.1, affine=True, track_running_stats=True)\n",
       "  )\n",
       "  (conv3): Sequential(\n",
       "    (0): Conv2d(32, 32, kernel_size=(1, 10), stride=(1, 1))\n",
       "    (1): LeakyReLU(negative_slope=0.01)\n",
       "    (2): BatchNorm2d(32, eps=1e-05, momentum=0.1, affine=True, track_running_stats=True)\n",
       "    (3): Conv2d(32, 32, kernel_size=(4, 1), stride=(1, 1))\n",
       "    (4): LeakyReLU(negative_slope=0.01)\n",
       "    (5): BatchNorm2d(32, eps=1e-05, momentum=0.1, affine=True, track_running_stats=True)\n",
       "    (6): Conv2d(32, 32, kernel_size=(4, 1), stride=(1, 1))\n",
       "    (7): LeakyReLU(negative_slope=0.01)\n",
       "    (8): BatchNorm2d(32, eps=1e-05, momentum=0.1, affine=True, track_running_stats=True)\n",
       "  )\n",
       "  (inp1): Sequential(\n",
       "    (0): Conv2d(32, 64, kernel_size=(1, 1), stride=(1, 1), padding=same)\n",
       "    (1): LeakyReLU(negative_slope=0.01)\n",
       "    (2): BatchNorm2d(64, eps=1e-05, momentum=0.1, affine=True, track_running_stats=True)\n",
       "    (3): Conv2d(64, 64, kernel_size=(3, 1), stride=(1, 1), padding=same)\n",
       "    (4): LeakyReLU(negative_slope=0.01)\n",
       "    (5): BatchNorm2d(64, eps=1e-05, momentum=0.1, affine=True, track_running_stats=True)\n",
       "  )\n",
       "  (inp2): Sequential(\n",
       "    (0): Conv2d(32, 64, kernel_size=(1, 1), stride=(1, 1), padding=same)\n",
       "    (1): LeakyReLU(negative_slope=0.01)\n",
       "    (2): BatchNorm2d(64, eps=1e-05, momentum=0.1, affine=True, track_running_stats=True)\n",
       "    (3): Conv2d(64, 64, kernel_size=(5, 1), stride=(1, 1), padding=same)\n",
       "    (4): LeakyReLU(negative_slope=0.01)\n",
       "    (5): BatchNorm2d(64, eps=1e-05, momentum=0.1, affine=True, track_running_stats=True)\n",
       "  )\n",
       "  (inp3): Sequential(\n",
       "    (0): MaxPool2d(kernel_size=(3, 1), stride=(1, 1), padding=(1, 0), dilation=1, ceil_mode=False)\n",
       "    (1): Conv2d(32, 64, kernel_size=(1, 1), stride=(1, 1), padding=same)\n",
       "    (2): LeakyReLU(negative_slope=0.01)\n",
       "    (3): BatchNorm2d(64, eps=1e-05, momentum=0.1, affine=True, track_running_stats=True)\n",
       "  )\n",
       "  (lstm): LSTM(192, 64, batch_first=True)\n",
       "  (fc1): Linear(in_features=64, out_features=3, bias=True)\n",
       ")"
      ]
     },
     "execution_count": 13,
     "metadata": {},
     "output_type": "execute_result"
    }
   ],
   "source": [
    "model = deeplob(y_len = dataset_train.num_classes)\n",
    "model.to(device)"
   ]
  },
  {
   "cell_type": "code",
   "execution_count": 14,
   "id": "46c26478-584a-41f2-9a71-b49acda70f14",
   "metadata": {},
   "outputs": [
    {
     "data": {
      "text/plain": [
       "==========================================================================================\n",
       "Layer (type:depth-idx)                   Output Shape              Param #\n",
       "==========================================================================================\n",
       "deeplob                                  [1, 3]                    --\n",
       "├─Sequential: 1-1                        [1, 32, 94, 20]           --\n",
       "│    └─Conv2d: 2-1                       [1, 32, 100, 20]          96\n",
       "│    └─LeakyReLU: 2-2                    [1, 32, 100, 20]          --\n",
       "│    └─BatchNorm2d: 2-3                  [1, 32, 100, 20]          64\n",
       "│    └─Conv2d: 2-4                       [1, 32, 97, 20]           4,128\n",
       "│    └─LeakyReLU: 2-5                    [1, 32, 97, 20]           --\n",
       "│    └─BatchNorm2d: 2-6                  [1, 32, 97, 20]           64\n",
       "│    └─Conv2d: 2-7                       [1, 32, 94, 20]           4,128\n",
       "│    └─LeakyReLU: 2-8                    [1, 32, 94, 20]           --\n",
       "│    └─BatchNorm2d: 2-9                  [1, 32, 94, 20]           64\n",
       "├─Sequential: 1-2                        [1, 32, 88, 10]           --\n",
       "│    └─Conv2d: 2-10                      [1, 32, 94, 10]           2,080\n",
       "│    └─Tanh: 2-11                        [1, 32, 94, 10]           --\n",
       "│    └─BatchNorm2d: 2-12                 [1, 32, 94, 10]           64\n",
       "│    └─Conv2d: 2-13                      [1, 32, 91, 10]           4,128\n",
       "│    └─Tanh: 2-14                        [1, 32, 91, 10]           --\n",
       "│    └─BatchNorm2d: 2-15                 [1, 32, 91, 10]           64\n",
       "│    └─Conv2d: 2-16                      [1, 32, 88, 10]           4,128\n",
       "│    └─Tanh: 2-17                        [1, 32, 88, 10]           --\n",
       "│    └─BatchNorm2d: 2-18                 [1, 32, 88, 10]           64\n",
       "├─Sequential: 1-3                        [1, 32, 82, 1]            --\n",
       "│    └─Conv2d: 2-19                      [1, 32, 88, 1]            10,272\n",
       "│    └─LeakyReLU: 2-20                   [1, 32, 88, 1]            --\n",
       "│    └─BatchNorm2d: 2-21                 [1, 32, 88, 1]            64\n",
       "│    └─Conv2d: 2-22                      [1, 32, 85, 1]            4,128\n",
       "│    └─LeakyReLU: 2-23                   [1, 32, 85, 1]            --\n",
       "│    └─BatchNorm2d: 2-24                 [1, 32, 85, 1]            64\n",
       "│    └─Conv2d: 2-25                      [1, 32, 82, 1]            4,128\n",
       "│    └─LeakyReLU: 2-26                   [1, 32, 82, 1]            --\n",
       "│    └─BatchNorm2d: 2-27                 [1, 32, 82, 1]            64\n",
       "├─Sequential: 1-4                        [1, 64, 82, 1]            --\n",
       "│    └─Conv2d: 2-28                      [1, 64, 82, 1]            2,112\n",
       "│    └─LeakyReLU: 2-29                   [1, 64, 82, 1]            --\n",
       "│    └─BatchNorm2d: 2-30                 [1, 64, 82, 1]            128\n",
       "│    └─Conv2d: 2-31                      [1, 64, 82, 1]            12,352\n",
       "│    └─LeakyReLU: 2-32                   [1, 64, 82, 1]            --\n",
       "│    └─BatchNorm2d: 2-33                 [1, 64, 82, 1]            128\n",
       "├─Sequential: 1-5                        [1, 64, 82, 1]            --\n",
       "│    └─Conv2d: 2-34                      [1, 64, 82, 1]            2,112\n",
       "│    └─LeakyReLU: 2-35                   [1, 64, 82, 1]            --\n",
       "│    └─BatchNorm2d: 2-36                 [1, 64, 82, 1]            128\n",
       "│    └─Conv2d: 2-37                      [1, 64, 82, 1]            20,544\n",
       "│    └─LeakyReLU: 2-38                   [1, 64, 82, 1]            --\n",
       "│    └─BatchNorm2d: 2-39                 [1, 64, 82, 1]            128\n",
       "├─Sequential: 1-6                        [1, 64, 82, 1]            --\n",
       "│    └─MaxPool2d: 2-40                   [1, 32, 82, 1]            --\n",
       "│    └─Conv2d: 2-41                      [1, 64, 82, 1]            2,112\n",
       "│    └─LeakyReLU: 2-42                   [1, 64, 82, 1]            --\n",
       "│    └─BatchNorm2d: 2-43                 [1, 64, 82, 1]            128\n",
       "├─LSTM: 1-7                              [1, 82, 64]               66,048\n",
       "├─Linear: 1-8                            [1, 3]                    195\n",
       "==========================================================================================\n",
       "Total params: 143,907\n",
       "Trainable params: 143,907\n",
       "Non-trainable params: 0\n",
       "Total mult-adds (Units.MEGABYTES): 35.53\n",
       "==========================================================================================\n",
       "Input size (MB): 0.02\n",
       "Forward/backward pass size (MB): 4.97\n",
       "Params size (MB): 0.58\n",
       "Estimated Total Size (MB): 5.56\n",
       "=========================================================================================="
      ]
     },
     "execution_count": 14,
     "metadata": {},
     "output_type": "execute_result"
    }
   ],
   "source": [
    "summary(model, (1, 1, 100, 40))"
   ]
  },
  {
   "cell_type": "code",
   "execution_count": 15,
   "id": "a5327c5d-c3a0-4f7e-95bf-27e2e11ad7e7",
   "metadata": {},
   "outputs": [],
   "source": [
    "criterion = nn.CrossEntropyLoss()\n",
    "optimizer = torch.optim.Adam(model.parameters(), lr=0.0001)"
   ]
  },
  {
   "cell_type": "markdown",
   "id": "760d4b7d-1e5f-4d75-904f-a87f247bb7ef",
   "metadata": {},
   "source": [
    "## Model Training"
   ]
  },
  {
   "cell_type": "code",
   "execution_count": 16,
   "id": "7126ef38-97b7-4982-819e-4c1b6a687f01",
   "metadata": {},
   "outputs": [],
   "source": [
    "# A function to encapsulate the training loop\n",
    "def batch_gd(model, criterion, optimizer, train_loader, test_loader, epochs):\n",
    "    \n",
    "    train_losses = np.zeros(epochs)\n",
    "    test_losses = np.zeros(epochs)\n",
    "    best_test_loss = np.inf\n",
    "    best_test_epoch = 0\n",
    "\n",
    "    for it in tqdm(range(epochs)):\n",
    "        \n",
    "        model.train()\n",
    "        t0 = datetime.now()\n",
    "        train_loss = []\n",
    "        for inputs, targets in train_loader:\n",
    "            # move data to GPU\n",
    "            inputs, targets = inputs.to(device, dtype=torch.float), targets.to(device, dtype=torch.int64)\n",
    "            # print(\"inputs.shape:\", inputs.shape)\n",
    "            # zero the parameter gradients\n",
    "            optimizer.zero_grad()\n",
    "            # Forward pass\n",
    "            # print(\"about to get model output\")\n",
    "            outputs = model(inputs)\n",
    "            # print(\"done getting model output\")\n",
    "            # print(\"outputs.shape:\", outputs.shape, \"targets.shape:\", targets.shape)\n",
    "            loss = criterion(outputs, targets)\n",
    "            # Backward and optimize\n",
    "            # print(\"about to optimize\")\n",
    "            loss.backward()\n",
    "            optimizer.step()\n",
    "            train_loss.append(loss.item())\n",
    "        # Get train loss and test loss\n",
    "        train_loss = np.mean(train_loss) # a little misleading\n",
    "    \n",
    "        model.eval()\n",
    "        test_loss = []\n",
    "        for inputs, targets in test_loader:\n",
    "            inputs, targets = inputs.to(device, dtype=torch.float), targets.to(device, dtype=torch.int64)      \n",
    "            outputs = model(inputs)\n",
    "            loss = criterion(outputs, targets)\n",
    "            test_loss.append(loss.item())\n",
    "        test_loss = np.mean(test_loss)\n",
    "\n",
    "        # Save losses\n",
    "        train_losses[it] = train_loss\n",
    "        test_losses[it] = test_loss\n",
    "        \n",
    "        if test_loss < best_test_loss:\n",
    "            torch.save(model, './best_val_model_pytorch')\n",
    "            best_test_loss = test_loss\n",
    "            best_test_epoch = it\n",
    "            print('model saved')\n",
    "\n",
    "        dt = datetime.now() - t0\n",
    "        print(f'Epoch {it+1}/{epochs}, Train Loss: {train_loss:.4f}, \\\n",
    "          Validation Loss: {test_loss:.4f}, Duration: {dt}, Best Val Epoch: {best_test_epoch}')\n",
    "\n",
    "    return train_losses, test_losses"
   ]
  },
  {
   "cell_type": "code",
   "execution_count": 17,
   "id": "95368894-b55d-41ea-88a7-d71a919b42e3",
   "metadata": {},
   "outputs": [
    {
     "name": "stderr",
     "output_type": "stream",
     "text": [
      "  2%|▏         | 1/50 [21:32<17:35:44, 1292.74s/it]"
     ]
    },
    {
     "name": "stdout",
     "output_type": "stream",
     "text": [
      "model saved\n",
      "Epoch 1/50, Train Loss: 0.9188,           Validation Loss: 0.9718, Duration: 0:21:32.742541, Best Val Epoch: 0\n"
     ]
    },
    {
     "name": "stderr",
     "output_type": "stream",
     "text": [
      "  4%|▍         | 2/50 [43:05<17:14:21, 1292.95s/it]"
     ]
    },
    {
     "name": "stdout",
     "output_type": "stream",
     "text": [
      "model saved\n",
      "Epoch 2/50, Train Loss: 0.8218,           Validation Loss: 0.9597, Duration: 0:21:33.082747, Best Val Epoch: 1\n"
     ]
    },
    {
     "name": "stderr",
     "output_type": "stream",
     "text": [
      "  6%|▌         | 3/50 [1:03:42<16:32:47, 1267.40s/it]"
     ]
    },
    {
     "name": "stdout",
     "output_type": "stream",
     "text": [
      "Epoch 3/50, Train Loss: 0.7928,           Validation Loss: 1.0345, Duration: 0:20:36.992241, Best Val Epoch: 1\n"
     ]
    },
    {
     "name": "stderr",
     "output_type": "stream",
     "text": [
      "  8%|▊         | 4/50 [1:24:08<15:59:11, 1251.11s/it]"
     ]
    },
    {
     "name": "stdout",
     "output_type": "stream",
     "text": [
      "model saved\n",
      "Epoch 4/50, Train Loss: 0.7752,           Validation Loss: 0.9571, Duration: 0:20:26.149376, Best Val Epoch: 3\n"
     ]
    },
    {
     "name": "stderr",
     "output_type": "stream",
     "text": [
      " 10%|█         | 5/50 [1:44:26<15:29:20, 1239.11s/it]"
     ]
    },
    {
     "name": "stdout",
     "output_type": "stream",
     "text": [
      "model saved\n",
      "Epoch 5/50, Train Loss: 0.7626,           Validation Loss: 0.9274, Duration: 0:20:17.835619, Best Val Epoch: 4\n"
     ]
    },
    {
     "name": "stderr",
     "output_type": "stream",
     "text": [
      " 12%|█▏        | 6/50 [2:04:48<15:04:23, 1233.26s/it]"
     ]
    },
    {
     "name": "stdout",
     "output_type": "stream",
     "text": [
      "model saved\n",
      "Epoch 6/50, Train Loss: 0.7538,           Validation Loss: 0.8876, Duration: 0:20:21.882621, Best Val Epoch: 5\n"
     ]
    },
    {
     "name": "stderr",
     "output_type": "stream",
     "text": [
      " 14%|█▍        | 7/50 [2:25:05<14:39:53, 1227.76s/it]"
     ]
    },
    {
     "name": "stdout",
     "output_type": "stream",
     "text": [
      "Epoch 7/50, Train Loss: 0.7460,           Validation Loss: 0.8883, Duration: 0:20:16.456163, Best Val Epoch: 5\n"
     ]
    },
    {
     "name": "stderr",
     "output_type": "stream",
     "text": [
      " 16%|█▌        | 8/50 [2:45:35<14:20:07, 1228.74s/it]"
     ]
    },
    {
     "name": "stdout",
     "output_type": "stream",
     "text": [
      "Epoch 8/50, Train Loss: 0.7400,           Validation Loss: 0.8991, Duration: 0:20:30.822828, Best Val Epoch: 5\n"
     ]
    },
    {
     "name": "stderr",
     "output_type": "stream",
     "text": [
      " 18%|█▊        | 9/50 [3:07:11<14:13:54, 1249.62s/it]"
     ]
    },
    {
     "name": "stdout",
     "output_type": "stream",
     "text": [
      "model saved\n",
      "Epoch 9/50, Train Loss: 0.7341,           Validation Loss: 0.8780, Duration: 0:21:35.527479, Best Val Epoch: 8\n"
     ]
    },
    {
     "name": "stderr",
     "output_type": "stream",
     "text": [
      " 20%|██        | 10/50 [3:28:51<14:03:26, 1265.15s/it]"
     ]
    },
    {
     "name": "stdout",
     "output_type": "stream",
     "text": [
      "Epoch 10/50, Train Loss: 0.7283,           Validation Loss: 0.8813, Duration: 0:21:39.940018, Best Val Epoch: 8\n"
     ]
    },
    {
     "name": "stderr",
     "output_type": "stream",
     "text": [
      " 22%|██▏       | 11/50 [3:50:38<13:50:45, 1278.10s/it]"
     ]
    },
    {
     "name": "stdout",
     "output_type": "stream",
     "text": [
      "Epoch 11/50, Train Loss: 0.7233,           Validation Loss: 0.8870, Duration: 0:21:47.436724, Best Val Epoch: 8\n"
     ]
    },
    {
     "name": "stderr",
     "output_type": "stream",
     "text": [
      " 24%|██▍       | 12/50 [4:13:43<13:49:54, 1310.39s/it]"
     ]
    },
    {
     "name": "stdout",
     "output_type": "stream",
     "text": [
      "model saved\n",
      "Epoch 12/50, Train Loss: 0.7181,           Validation Loss: 0.8749, Duration: 0:23:04.249765, Best Val Epoch: 11\n"
     ]
    },
    {
     "name": "stderr",
     "output_type": "stream",
     "text": [
      " 26%|██▌       | 13/50 [4:37:14<13:47:00, 1341.09s/it]"
     ]
    },
    {
     "name": "stdout",
     "output_type": "stream",
     "text": [
      "Epoch 13/50, Train Loss: 0.7132,           Validation Loss: 0.8966, Duration: 0:23:31.734976, Best Val Epoch: 11\n"
     ]
    },
    {
     "name": "stderr",
     "output_type": "stream",
     "text": [
      " 28%|██▊       | 14/50 [5:01:35<13:46:21, 1377.25s/it]"
     ]
    },
    {
     "name": "stdout",
     "output_type": "stream",
     "text": [
      "Epoch 14/50, Train Loss: 0.7091,           Validation Loss: 0.8944, Duration: 0:24:20.809060, Best Val Epoch: 11\n"
     ]
    },
    {
     "name": "stderr",
     "output_type": "stream",
     "text": [
      " 30%|███       | 15/50 [5:24:22<13:21:34, 1374.13s/it]"
     ]
    },
    {
     "name": "stdout",
     "output_type": "stream",
     "text": [
      "Epoch 15/50, Train Loss: 0.7059,           Validation Loss: 0.8872, Duration: 0:22:46.892333, Best Val Epoch: 11\n"
     ]
    },
    {
     "name": "stderr",
     "output_type": "stream",
     "text": [
      " 32%|███▏      | 16/50 [5:47:24<13:00:04, 1376.60s/it]"
     ]
    },
    {
     "name": "stdout",
     "output_type": "stream",
     "text": [
      "Epoch 16/50, Train Loss: 0.7027,           Validation Loss: 0.8842, Duration: 0:23:02.333178, Best Val Epoch: 11\n"
     ]
    },
    {
     "name": "stderr",
     "output_type": "stream",
     "text": [
      " 34%|███▍      | 17/50 [6:10:27<12:38:07, 1378.41s/it]"
     ]
    },
    {
     "name": "stdout",
     "output_type": "stream",
     "text": [
      "Epoch 17/50, Train Loss: 0.6989,           Validation Loss: 0.8920, Duration: 0:23:02.627952, Best Val Epoch: 11\n"
     ]
    },
    {
     "name": "stderr",
     "output_type": "stream",
     "text": [
      " 36%|███▌      | 18/50 [6:33:24<12:14:51, 1377.86s/it]"
     ]
    },
    {
     "name": "stdout",
     "output_type": "stream",
     "text": [
      "Epoch 18/50, Train Loss: 0.6966,           Validation Loss: 0.8831, Duration: 0:22:56.559703, Best Val Epoch: 11\n"
     ]
    },
    {
     "name": "stderr",
     "output_type": "stream",
     "text": [
      " 38%|███▊      | 19/50 [6:56:25<11:52:24, 1378.86s/it]"
     ]
    },
    {
     "name": "stdout",
     "output_type": "stream",
     "text": [
      "Epoch 19/50, Train Loss: 0.6935,           Validation Loss: 0.8868, Duration: 0:23:01.203368, Best Val Epoch: 11\n"
     ]
    },
    {
     "name": "stderr",
     "output_type": "stream",
     "text": [
      " 40%|████      | 20/50 [7:19:23<11:29:22, 1378.76s/it]"
     ]
    },
    {
     "name": "stdout",
     "output_type": "stream",
     "text": [
      "Epoch 20/50, Train Loss: 0.6912,           Validation Loss: 0.8978, Duration: 0:22:58.529315, Best Val Epoch: 11\n"
     ]
    },
    {
     "name": "stderr",
     "output_type": "stream",
     "text": [
      " 42%|████▏     | 21/50 [7:42:22<11:06:23, 1378.73s/it]"
     ]
    },
    {
     "name": "stdout",
     "output_type": "stream",
     "text": [
      "Epoch 21/50, Train Loss: 0.6889,           Validation Loss: 0.8921, Duration: 0:22:58.659259, Best Val Epoch: 11\n"
     ]
    },
    {
     "name": "stderr",
     "output_type": "stream",
     "text": [
      " 44%|████▍     | 22/50 [8:05:20<10:43:18, 1378.53s/it]"
     ]
    },
    {
     "name": "stdout",
     "output_type": "stream",
     "text": [
      "Epoch 22/50, Train Loss: 0.6862,           Validation Loss: 0.8835, Duration: 0:22:58.063612, Best Val Epoch: 11\n"
     ]
    },
    {
     "name": "stderr",
     "output_type": "stream",
     "text": [
      " 46%|████▌     | 23/50 [8:28:18<10:20:16, 1378.38s/it]"
     ]
    },
    {
     "name": "stdout",
     "output_type": "stream",
     "text": [
      "Epoch 23/50, Train Loss: 0.6843,           Validation Loss: 0.8822, Duration: 0:22:58.018977, Best Val Epoch: 11\n"
     ]
    },
    {
     "name": "stderr",
     "output_type": "stream",
     "text": [
      " 48%|████▊     | 24/50 [8:51:05<9:55:47, 1374.91s/it] "
     ]
    },
    {
     "name": "stdout",
     "output_type": "stream",
     "text": [
      "Epoch 24/50, Train Loss: 0.6817,           Validation Loss: 0.8961, Duration: 0:22:46.832019, Best Val Epoch: 11\n"
     ]
    },
    {
     "name": "stderr",
     "output_type": "stream",
     "text": [
      " 50%|█████     | 25/50 [9:13:07<9:26:13, 1358.95s/it]"
     ]
    },
    {
     "name": "stdout",
     "output_type": "stream",
     "text": [
      "Epoch 25/50, Train Loss: 0.6799,           Validation Loss: 0.8907, Duration: 0:22:01.689930, Best Val Epoch: 11\n"
     ]
    },
    {
     "name": "stderr",
     "output_type": "stream",
     "text": [
      " 52%|█████▏    | 26/50 [9:35:59<9:05:09, 1362.88s/it]"
     ]
    },
    {
     "name": "stdout",
     "output_type": "stream",
     "text": [
      "Epoch 26/50, Train Loss: 0.6780,           Validation Loss: 0.9025, Duration: 0:22:52.046338, Best Val Epoch: 11\n"
     ]
    },
    {
     "name": "stderr",
     "output_type": "stream",
     "text": [
      " 54%|█████▍    | 27/50 [9:58:46<8:42:56, 1364.20s/it]"
     ]
    },
    {
     "name": "stdout",
     "output_type": "stream",
     "text": [
      "Epoch 27/50, Train Loss: 0.6771,           Validation Loss: 0.8835, Duration: 0:22:47.270651, Best Val Epoch: 11\n"
     ]
    },
    {
     "name": "stderr",
     "output_type": "stream",
     "text": [
      " 56%|█████▌    | 28/50 [10:20:45<8:15:13, 1350.61s/it]"
     ]
    },
    {
     "name": "stdout",
     "output_type": "stream",
     "text": [
      "Epoch 28/50, Train Loss: 0.6749,           Validation Loss: 0.8874, Duration: 0:21:58.923660, Best Val Epoch: 11\n"
     ]
    },
    {
     "name": "stderr",
     "output_type": "stream",
     "text": [
      " 58%|█████▊    | 29/50 [10:42:48<7:49:47, 1342.27s/it]"
     ]
    },
    {
     "name": "stdout",
     "output_type": "stream",
     "text": [
      "Epoch 29/50, Train Loss: 0.6738,           Validation Loss: 0.8871, Duration: 0:22:02.804108, Best Val Epoch: 11\n"
     ]
    },
    {
     "name": "stderr",
     "output_type": "stream",
     "text": [
      " 60%|██████    | 30/50 [11:04:44<7:24:52, 1334.62s/it]"
     ]
    },
    {
     "name": "stdout",
     "output_type": "stream",
     "text": [
      "Epoch 30/50, Train Loss: 0.6718,           Validation Loss: 0.8867, Duration: 0:21:56.750651, Best Val Epoch: 11\n"
     ]
    },
    {
     "name": "stderr",
     "output_type": "stream",
     "text": [
      " 62%|██████▏   | 31/50 [11:26:45<7:01:19, 1330.50s/it]"
     ]
    },
    {
     "name": "stdout",
     "output_type": "stream",
     "text": [
      "Epoch 31/50, Train Loss: 0.6706,           Validation Loss: 0.8929, Duration: 0:22:00.907558, Best Val Epoch: 11\n"
     ]
    },
    {
     "name": "stderr",
     "output_type": "stream",
     "text": [
      " 64%|██████▍   | 32/50 [11:49:26<6:41:50, 1339.45s/it]"
     ]
    },
    {
     "name": "stdout",
     "output_type": "stream",
     "text": [
      "Epoch 32/50, Train Loss: 0.6692,           Validation Loss: 0.8963, Duration: 0:22:40.332200, Best Val Epoch: 11\n"
     ]
    },
    {
     "name": "stderr",
     "output_type": "stream",
     "text": [
      " 66%|██████▌   | 33/50 [12:12:22<6:22:40, 1350.65s/it]"
     ]
    },
    {
     "name": "stdout",
     "output_type": "stream",
     "text": [
      "Epoch 33/50, Train Loss: 0.6682,           Validation Loss: 0.8905, Duration: 0:22:56.759517, Best Val Epoch: 11\n"
     ]
    },
    {
     "name": "stderr",
     "output_type": "stream",
     "text": [
      " 68%|██████▊   | 34/50 [12:35:09<6:01:25, 1355.32s/it]"
     ]
    },
    {
     "name": "stdout",
     "output_type": "stream",
     "text": [
      "Epoch 34/50, Train Loss: 0.6672,           Validation Loss: 0.8917, Duration: 0:22:46.226279, Best Val Epoch: 11\n"
     ]
    },
    {
     "name": "stderr",
     "output_type": "stream",
     "text": [
      " 70%|███████   | 35/50 [12:57:40<5:38:34, 1354.27s/it]"
     ]
    },
    {
     "name": "stdout",
     "output_type": "stream",
     "text": [
      "Epoch 35/50, Train Loss: 0.6666,           Validation Loss: 0.8969, Duration: 0:22:31.819262, Best Val Epoch: 11\n"
     ]
    },
    {
     "name": "stderr",
     "output_type": "stream",
     "text": [
      " 72%|███████▏  | 36/50 [13:19:43<5:13:47, 1344.79s/it]"
     ]
    },
    {
     "name": "stdout",
     "output_type": "stream",
     "text": [
      "Epoch 36/50, Train Loss: 0.6648,           Validation Loss: 0.8926, Duration: 0:22:02.677951, Best Val Epoch: 11\n"
     ]
    },
    {
     "name": "stderr",
     "output_type": "stream",
     "text": [
      " 74%|███████▍  | 37/50 [13:42:53<4:54:19, 1358.43s/it]"
     ]
    },
    {
     "name": "stdout",
     "output_type": "stream",
     "text": [
      "Epoch 37/50, Train Loss: 0.6637,           Validation Loss: 0.8910, Duration: 0:23:10.238468, Best Val Epoch: 11\n"
     ]
    },
    {
     "name": "stderr",
     "output_type": "stream",
     "text": [
      " 76%|███████▌  | 38/50 [14:05:54<4:33:00, 1365.03s/it]"
     ]
    },
    {
     "name": "stdout",
     "output_type": "stream",
     "text": [
      "Epoch 38/50, Train Loss: 0.6618,           Validation Loss: 0.8934, Duration: 0:23:00.429590, Best Val Epoch: 11\n"
     ]
    },
    {
     "name": "stderr",
     "output_type": "stream",
     "text": [
      " 78%|███████▊  | 39/50 [14:28:55<4:11:09, 1369.92s/it]"
     ]
    },
    {
     "name": "stdout",
     "output_type": "stream",
     "text": [
      "Epoch 39/50, Train Loss: 0.6617,           Validation Loss: 0.9003, Duration: 0:23:01.324586, Best Val Epoch: 11\n"
     ]
    },
    {
     "name": "stderr",
     "output_type": "stream",
     "text": [
      " 80%|████████  | 40/50 [14:51:52<3:48:38, 1371.85s/it]"
     ]
    },
    {
     "name": "stdout",
     "output_type": "stream",
     "text": [
      "Epoch 40/50, Train Loss: 0.6604,           Validation Loss: 0.8954, Duration: 0:22:56.367257, Best Val Epoch: 11\n"
     ]
    },
    {
     "name": "stderr",
     "output_type": "stream",
     "text": [
      " 82%|████████▏ | 41/50 [15:15:05<3:26:43, 1378.22s/it]"
     ]
    },
    {
     "name": "stdout",
     "output_type": "stream",
     "text": [
      "Epoch 41/50, Train Loss: 0.6601,           Validation Loss: 0.8915, Duration: 0:23:13.075217, Best Val Epoch: 11\n"
     ]
    },
    {
     "name": "stderr",
     "output_type": "stream",
     "text": [
      "Bad pipe message: %s [b'\\xfa\\xe8\\xd9.1\\xa3h\\x1f\\xee\\xd9\\xee\\x06\\xbf\\x9bR\\xf25L \\xabc\\xd9v\\x1d\\x80D\\x14\\xe0\\xcciDh\\xc5\\xd9\\x954Y\\xc1\\xd7\\xf9\\xcf!\\xe50\\xf2\\xaf==OQ\\x90\\x00 \\xca\\xca\\x13\\x01\\x13\\x02\\x13\\x03\\xc0+\\xc0/\\xc0,\\xc00\\xcc\\xa9\\xcc\\xa8\\xc0\\x13\\xc0\\x14\\x00\\x9c\\x00\\x9d\\x00/\\x005\\x01\\x00\\x06s\\x1a\\x1a\\x00\\x00\\x00#\\x00\\x00\\xff\\x01\\x00\\x01\\x00\\x00\\n\\x00\\x0c\\x00\\nzzc\\x99\\x00\\x1d\\x00\\x17\\x00\\x18\\x00-\\x00\\x02\\x01\\x01\\xfe\\r\\x00\\xfa\\x00\\x00\\x01\\x00\\x01Y\\x00 \\x08\\xa4\\xcc\\xfd\\xaf\\xf0x\\xc3\\xd0\\x86\\xf5\\xdb\\x14\\\\\\x97\\x89\\xf0Lwjk*\\x11\\xf8#\\xda\\xb6\\x1f\\xe7\\xe7\\x0fl\\x00\\xd0']\n",
      "Bad pipe message: %s [b'S\\xe9\\xf2\\xdaGn\\x03K\\xa7\\xc6\\xc6nT\\xf5f\\xb1\\x17\\xbb\\x05\\xab\\x11\\x17\\x1a\\xf0\\tJ\\xa6pP\\xbd7\\xa2\\xeb\\xe0@\\xa0\\xdb\\xa8\\x13Zm\\x7fN\\xd4\\xf1\\xfajJ\\x9eu\\x93e\\x04\\x93\\x85\"*\\xe9\\x00+\\x0c\\x1d\\xc5\\xd8\\xcaU\\x10%(\\x1dp\\x95\\x9b\\xbcAP,-\\xac\\xed\\xd8\\xdb\\xf2\\x90<r8k\\n\\xe1\\xac\\x92L\\xdf\\xea\\xab!\\xdf\\xfc2\\x12\\xe6\\xc1<\\xa1\\x13\\xec\\xda\\xfdV\\xf6\\x84\\x96\\xebB\\xa0\\xfb\\xcf[~\\xdb\\xf9e\\x10\\xc3V\\x1c4\\xf5\\x07 #\\xae*\\xad\\xae\\x9f\\xd3\\xdc\\xa3\\xd9\\x0e\\x1a\\xa9\\xb8`', b'\\xcc\\x97y\\xfa+\\t\\x04X\\xech\\x08\\xfe\\x83yy6\\xfd<8\\xce\\xe7\\xddi)\\x14\\xfe\\x93 \\x8e\\xc1K\\xe4\\xef,\\xa6SjS\\x9e\\x95\\x8c\\xc4\\x9a\\xc6B\\xf0\\x97$\\xbb\\x85\\xa9\\xfd[']\n",
      "Bad pipe message: %s [b'\\xd2s\\xd8EB;nv\\xf7|\\xdb{\\x08\\xb2\\xdd', b'b \\x9fG\\x1e\\xfbG\\xe4f\\xba\\xc5A\\x10\\xe5\\xbe\\xf2t@\\xfb:\\xb4\\xc7\\xd1&.\\xb4\\x13w\\xc6\\x95\\xce\\xbe\\x88=\\x00 \\x1a\\x1a\\x13\\x01\\x13\\x02\\x13\\x03\\xc0+\\xc0/\\xc0,\\xc00\\xcc\\xa9\\xcc\\xa8\\xc0\\x13\\xc0\\x14\\x00\\x9c\\x00\\x9d\\x00/\\x005\\x01\\x00\\x06s::\\x00\\x00\\x003\\x04\\xef\\x04\\xedJJ\\x00\\x01\\x00c\\x99\\x04\\xc0\\xe7\\x14H\\x930\\xda\\xde\\xd4[']\n",
      "Bad pipe message: %s [b'\\xc9\\xc6\\x17\\x00\\x0b\\x00\\x02\\x01\\x00\\x00\\x17\\x00\\x00Di\\x00\\x05\\x00\\x03\\x02h2\\x00\\x1b\\x00\\x03\\x02\\x00\\x02\\x00\\x05\\x00\\x05\\x01\\x00\\x00\\x00\\x00\\x003\\x04\\xef\\x04\\xedzz\\x00\\x01\\x00c\\x99\\x04\\xc0\"4\\xbb\\xf44\\x96\\x82\\xe0\\xc2\\xf5\\xb66\\xf3d\\xab\\xab\\x1a\\xb2\\x02\\x9eS\\x19_\\x86\\xb0\\x9a\\x18\\x87\\xae\\xf4)z\\xb8`\\'\\xe9k\\x0bOrl\\x13<\\xa4\\xd17\\x8a\\x1eQQMG5\\x9c\\x04\\x9b\\xe9\\xe4\\x8d\\x84\\x8b,\\xa4\\x13}\\xe7\\xe6\"\\x15x\\xb6\\xebc\\x14T\\'\\x8a\\xe6d\\x88\\x1fD\\xa7^\\xe2\\x03K\\x960\\x8e1\\x85D\\xf7c\\x9b\\xa3yG\\xe4P\\xea+\\xb0\\x90$h\\x94\\x80\\\\\\x15#C5\\xf6\\xb9\\xd9\\x93o\\x1f\\x13NyJ\\x938Q\\x8cL\\xf4iN0;\\x9b\\xa7z\\xe5,\\xce\\x91\\x1ars\\xc9P\\xd8\\xd1m\\x06Qp\\xd4t\\x90\\xd8\\xbc\\x8czq\\\\#\\xa2=\\x06\\x9a\\xb9\\xc6\\xc92\\xdd{\\xc9\\x84I', b'\\xf5j\\xe3\\xc1o\\x97VVo\\xda\\x12\\xda\\x00Mwh\\xa6\\xd7enwz\\xb0\\xd5\\x95\\x98\\xfe\\x89\\x87\\xe6\\x12\\x86\\x17\"\\xad\\xa0\\xfb\\x99\\x9aB\\xbd})\\xc2\\x95\\x90-c\\xd1(c', b'\\xc2\\xaam\\x1f\\x0b\\xc8i\\xb5b\\xd1\\x01\\xa6\\xee`\\xc3\\tfL\\x97\\xf7\\x16\\xbd\\xb2WyG \\x9f\\x85__fg\\xcb\\xf1\\xa6\\xf3z\\x17E\\xe0#\\x80I\\x15\\xe3\\xea\\x8eoQ|']\n",
      "Bad pipe message: %s [b'\\xec\\x9d\\x93D!\\xe6.\\xde\\xee\\xedf\\xb0\\x87\\xa2M@\\x15\\\\g\\xdc_\\xf9\\x9bTzC:\\xa7L\\x85\\xa5\\xc2\\xbc\\x1a|\\xcc\\x87|^\\xc2\\x99\\x84\\x81Do\\xd4\\xdbFS']\n",
      "Bad pipe message: %s [b'\\x83\\xf2\\x9aW\\xd7\\x92\\x9c?\\xe35\\x94\\x08s\\xdb\\xdab$17\\x18d\\x8e\\xa1\\xc8S\\x82\\xa6)\\x05XQ/88\\x11\\x92\\xc4\\xb9\\x9c\\x91k\\x0co>DN\\xb5\\xd0\\xa1\\x9d\\xb5\\x94\\x80\\x87\\x85\\xc0\\xa4Vw\\x1c\\x90$&\\x05\\xc8\\xa4=ey\\x08:\\xbb\\xbf\\x91\\xa1\\xc4s\\x0b~\\xbe\\xecg\\xa8#\\x94\\x80)\\xba\\xbb\\xd9\\x8055\\xcd\\xc8\\x91\\x82\\x01S.\\x87\\xc83\\xa3\\xfa\\x12\\x1b\\x06\\xb3\\x03P\\x8eA\\xc1?HRT\\xe2\\x84\\xac*!\\r\\x84\\x89\\xb1^7\\x84\\xb9\\x93M>zET\\xe6\\xbb\\xdd\\x887\\xe6U\\x1fp\\x19\\x18\\xc6`\\x93\\xbd\\x15\\xa7R*5\\xab\\x93G', b'\\xbd\\xdaBQ\\xd2L\\x12\\xb9\\x90\\xc9ICa>\\xb57\\xb3\\xac\\xb7o\\x83E\\x8f\\x97\\xaaxG\\x18\\x0e\\xc2\\x86-\\xc2n?\\x07PNcS\\xae!\\xa5\\x8a+\\x0fW\\x16\\x9b\\xbb\\x89\\xb8\\xd9\\x02\\x9f\\xe0\\xb7\\x9b\\xcd\\xd08\\xe9Z\\x07f\\xcc\\x0c+\\xf8\\x916\\xb8b%Zu\\xacCi\\xadv\\xb0P\\xa7\\xa8`\\xc3^\\xf3\\xe5_*Hj\\xd0\\xb5lz$I\\xb9\\xfae\\x14\\x13\\x9f\\x18\\xea\\x1b\\xc7\\xeb\\xc1x\\x180\\xd61\\xb7E\\xfck\\xd8\\x01;R\\xe9\\xb3K']\n",
      "Bad pipe message: %s [b'C\\xe6\\x0fayQ\\xdb\\xca\\x83\\x9bLD\\xfc\\xba1\\xd2\\x8b\\xbf\\x02w;Y+[\\x83{\\x11\\xc4\\x88\\xab\\x13\\xf4[\\xa4q~\\xf9\\xf7\\xcb\\x03\\x03\\xbe\\t\\xd8J0\\x89{]\\xc7=\\x1f\\x92a\\xabI\\x0e,\\x9a\\xa5|f\\xb1EDHDpKL\\x96\\x97\\xb7&@Z)HC\\xe8\\x8c\\x98\\xd0]0\\xe4S\\x9b\\xd4\\x95\\xf2Q\\xa6\\x89\\xdac\\x94\\xa1']\n",
      "Bad pipe message: %s [b'g\\xd1$\\xaf%\\x993\\xd9\\x12]P\\x84?\\xd2\\x82z\\xf3\\xc0\\xa4\\xd3\\x19\\xdd \\x91\\\\\\xb0\\x9e\\x08\\xea\\x04E\\x105*\\xc5AK\\xa7E$\\xe2-\\xbd\\xa7\\x8c[\\xd6', b'\\xc6\\x8b\\x1b\\xa5\\xcel{Hsgw\\x1a\\xfbC)\\x93h\\x1f\\x80$I\\x89\\x12}bc\\'\\xf7*c\\xd7\\xbf\\xb3\\xe6\\xce\\xb7\\xe5\\xad$\\x9b\\xc3\\x93GA\\x11w)\\x93LA\\xb7\\xe7\\xa0\\xa4\\xdaF\\x8fy\\xc8\\xd1L9\\x87\\x88\\xc4\\xb0y\\x80\\x1c,\\xb8q{\\xaaA\\xe8\\xc8y\\x90bfBf\\x9dA\\x95\\x9f<)V\\xc0*<\\x04uCg\\xbda\\x90\\x0c`k\\x9c\\xd2(\\x9d\\x92\\xc4\\x04\\xe7\\xf3(\"\\xbcs\\xe1']\n",
      "Bad pipe message: %s [b'\\xfa\\xb85\\x8a\\xa0\\x7f\"@9r\\xbd\\x80\\x0c\\t\"I\\x01\\xcf\\xa7\\x88\\x1a\\x81Q\\xcb\\xaa\\xc2\\xa3d\\x845Ct\\xda\\x99\\x9c\\xfa\\xd7\\xb3\\xe2C\\x11\\x114\\x8a\\xb7\\x05\\x06\\xb1[\\x8d\\x7f<]\\xb8\\xebf\\x8d\\xd6\\x98\\x05Yi2hm\\x18p\\x9bE@1\\x8d\\xd85~\\x025\\xc8\\xb6dc645\\xa5\\x00\\xca\\x88K\\x90\\x83P\\n\\xd3\\x04\\xfe\\xa7 ,\\xe9\\x85PTlau\\x86\\x94\\xe0\\x91\\xc6\\\\\\x99f\\x82m\\x8b\\x97\\xb6']\n",
      "Bad pipe message: %s [b\"qxZs,\\xa3\\t\\xe1_o+\\x0e\\x90\\xd6\\xbdZ\\xb3G\\x85J\\xa4\\xd8\\x10t\\xb8\\x86\\xb7\\xf6\\x00\\x06~\\xa3n\\xaei\\xa0\\xc9L\\t\\x0b\\\\D\\xd6\\x81[\\xd5\\x01\\xbd\\xe7L{\\x8a,\\xbc\\xf8\\x1cJ\\x99hv\\xf27}\\xa6\\x02\\xc1\\x1b(\\x01\\x1f3\\x0c\\xe6\\x10\\x0bD\\xd6\\x19@\\x19q\\xa6\\x11\\x8eB\\xfbf\\x1dDl\\xbe2\\x13\\xe5\\xca\\x189'Q\\xad\\x83\\xbc\\xc7\\x97~\\xd1\\xca\\x95\\x982}\\xbf\\x0c\\xc7\\xa8@/W\\x17c\\xdf\\xd3\\xcb\\xdf:\\x19C\\xe8G\\xfd\\xc4}UJ\\xab#6\\xcd:(H\\xfd\\xd1V\\x1d\\x05*!R8L8\\xa8\\x1b\\xec9\\xb7\\x1c[\\xf3hh\\xe6q\\x95\\xf4\\xf0\\xc9@\\n\\xbeY\\x84d\\xffw\\xaf06\\x85\\x08{Lkw\\xb0\\x86\\xe0\\xa5\\xdfTo\\xf9(\\xc7\\xf5\\xb71\\xb6+\", b'\\xc8\\x11\\xfd\\xf1\\x0f{\\xa27\\xf0\\x97`\\xdeG\\x9e\\x00\\r/~:!B\\xc3\\xb0\\xcb\\xd5\\xce\\xd8w\\xb7\\x04\\xf1\\xa4 B#-\\xa7m\\x16hz\\x85\\xd1]9\\xb7\\x97=\\x08w\\xf9W\\xc4s[f\\xfcj\\x19o9\\xae\\xca\\xd3Z\\xe4\\xfa\\x8a\\xc9\\xbc\\x98\\x0cs+Kb\\xbb\\xe9r\\xc0\\x94C\\xa5\\xe25\\tf\\\\\\x18']\n",
      "Bad pipe message: %s [b'~\\xa1\\xaa\\x19\\x1a\\x10\\xb2\\xa5:\\xba\\xfaP)\\xecC-l!\\x90\\x8f\\nmc\\xa9@\\xa2\\xbc\\xa9\\x8eP#\\x7f{h\\x93S\\\\\\xc9\\xb7\\xbb\\xf9\\xb93\\xa9\\xd6\\xa2dR\\x07*\\x9b(X\\xdb\\xa0\\x8c\\xb2A\\xdflr\\xea\\x1c.\\x11\\xe1\\x9aA\\xb5La\\x196;W\\x9e\\x97cP\\x8f\\x93Z\\xd9\\xa1R0\\x1ar%Ur\\xf0\\xe9g\\xc3\\xdc \\x9c\\x16/>\\xda\\xcf~\\xf326\\xa8\\x9b$s\\xccF*\\x82\\xa3\\xd1Kg\\xe5\\x80*\\xcc\\x9c$\\xa8\\xab\\xa5YV*\\xcc\\xbc@qI\\xf3\\x03\\x1fi\"zr\\xb4\\xb2\\xa5BV\\xaa\\xca\\xc7<!7\\xeb\\x88']\n",
      "Bad pipe message: %s [b'ZOE:\\x00\\xc4Q\\xb0[*Y\\xa4\\x98\\x15\\x02\\x16\\x81\\xbc^M\\xf2\\xb2\\xdf\\xb2<\\xb63!\\xdb6\\x9b\\x81\\xb3^\\xce\\x83\\x17\\x9b\\xc9\\x04\\xd6\\xccp\\xf62\\x7fZv\\xa6\\x05\\x92)\\x8d\\xabK\\x07\\x12\\x14\\xfb\\x84\\x91\\xc2\\xc6\\xa9\\xd3\\x12Zu\\x91\\xc7\\x0f\\xf4\\x93\\xb0\\xd8\\x98\\xcfF\\xb5`gP\\x8b:\\xc1w\\x94\\xc8\\xdd\\x97\\x9d\\x07\\xc1\\xbb\\xc5\\xc2\\xc9\\xa0J\\x80\\xf9\\x05\\\\@\\xa70B\\x95\\xbb\\x04\\xdaV\\xb9H~\\xa0%1\\xf9\\xfax)\\xe8\\x9c\\x97\\xf6\\xc24e\\x03Q \\x92\\x98\\xa1Z7tR\\xe9\\xb2\\x16\\x92\\xd85CF_\\x96\\x03(\\xbd\\xc9\\xc6\\xa5\\xa3\\x89\\xd4\\xec\\xa3\\xe1\\x9e\\xfa\\x0b/hGIu\\x1d\\xcaJ*Db\\xb7F\\xe5\\xc9v\\x00\\x1d\\x00 \\xed\\xc0']\n",
      "Bad pipe message: %s [b'\\xf1c\\xe3\\xe7A\\xcez$\\xf8\\x01V\\x8cP\\xab\\xf8\\x19\\xbeNv\\x10\\xa0\"\\xbf\\xb3\\xd6b\\xa8gU\\xc4\\xe4\\x02\\x93z/\\x18\\xb0\\xb4J\\xc8\\xa4~\\x892\\x1f\\xf3i\\xd0T\\x1d\\xe3W\\xba\\xde\\xfcc\\xab\\\\\\xb3WW;\\xe5\\xa4\\x89\\x1b\\x82t\\x0f\\x86\\x02\\xc9\\xa5\\x85\\x9d\\x8c\\x80\\x12g\\x88\\xb6\\x9bb\\xc7\\x90\\xca@\\xf4!\\xe2\\xac\\xadcu\\x1a\\x8c\\xeb-(\\xd1;g\\x03\\x1b\\xdcb\\xb2\\xa7B.\\xa0\\xcb+R\\xe1\\x12t\\x1c\\x82m\\xfa\\xafw\\x13\\xb24\\xbcg\\xfb\\xa6\\xb57w*\\xc154LhGo\\x13\\tS\\xd9\\xba\\xde\\x89n\\xf6\\xbc^\\xe4V|\\xcdV\\xa1W\\x06w\\xd0I\\x82\\xe0[\\xa7\\xa4*\\x98\\x05\\x19\\x82]\\x91\"\\xcf\\xb5w\\xcb\\x9c\\x0bP\\x1b?\\xa3(']\n",
      "Bad pipe message: %s [b\"0\\t\\xd5\\x1bo\\x80\\xe1\\x1d\\xcbK\\xbfR\\n\\x99\\xcbB\\xb6\\xf8\\xd01e@j\\xf3\\x89\\x9f;\\xf8;\\xc1\\xc4a\\xc8e\\x88@\\xf9!\\xd5\\x19]IT\\x80\\x8b\\xc9\\x9d@u\\x81\\x16%\\xb1(\\xe1\\x88\\x96h}\\xda\\x19z\\x8d\\xcacN7\\xaf\\xa5\\xa4T\\xd93i$\\x92)>\\xd1\\x94/\\xe9+\\x97r@(\\xa7S[\\xa5e'gq\\x98;\\xbai\\x931\\x00m\\x07\\xb5FB2\\xaa\\x16\\x07\\xc7\\xae\\x9f\\xd2\\x18\\xc6\\x82]\\xec\\t$Q\\xd7\\x8e\\xe7\\xf0K\\xf7\\xc1\\x9a\\x95\\x17=w\\xe1;\\xc60\\xa5\\x92t\\x19\\xab0f%\\xcb\\xc5Fu\\xb2\\xe8C\\x17\\xf4\\xc4u%\\xa6\\xb7\\xcb\\x18\\x90\\xd5X\\x9e\\x82\\xf8\\x84\\xfe\\xf3\\x9c\\xe7\\x07\\x16W\\xca\\xcf\\xb5I\\x15\\x11\\xcb\"]\n",
      "Bad pipe message: %s [b'\\xc7\\x155\\xd3\\x19\"\\xe1\\x80#y\\x1f\\x98\\x11%kT\\x03~I\\xcd\\xcf\\x92/\\xfdC7%9\\x84L\\xa9@\\x14\\x89au\\xa9Ds\\xc4\\x90\\xac\\xac=a\\xa5@\\x9c\\xe7V\\x9c\\xa9\\'\\xf6{\\xad\\'c\\x89\\x9e\\xf4\\xb8\\x9a\\x1b3\\x16\\x9a\\n\\x99\\x80\\x85\\x9dg\\xa2\\x93\\xbcPKc\\xc3m\\x8b\\x9bd\\xf6\\x8a\\xac\\tp\\xa4\\xd6\\x18\\rRi\\xb5\\xd0\\xb7\\t\\xc9\\x9fD\\x12\\x07\\x8c\\xd8\\x94\\xf3Ii\\xa6\\x18\\xb1d\"\\x8e\\x8fx\\xbbE\\x8aA~\\xfc\\x9d:k\\x180\\x91\\x99\\x97#Z\\x05\\xe8\\xadg\\x17D&Qk\\xad\\xbb|w\\xfa', b'\\xb4\\x18\\x18{\\x0e\\xe8)\\x9f\\xfb\\xaaX\\xe1\\x97\\xac\\xa2\\xc0N\\xc2\\xd0\\x85\\xa6']\n",
      "Bad pipe message: %s [b\"\\xd8\\x8a\\xa3\\x19\\xd8&\\xaaV=B\\xa3\\x89\\xf70\\n2\\x8a\\x92`\\xb6\\xc8\\x1c\\xf5c\\x06B%@\\x18\\xa27\\xd8\\xc3Q\\xe0\\xa2\\x10\\x15\\xa2f\\t`\\x16\\x04J\\xff\\xe0y\\x85\\xd6 1'\\x8f\\x10a\\xa7\\xf1hD_\\xc4@\\xe6\\xabh\\x80Z\\x9e\\x17Vg[\\xdaB6\\xc9\\x1d\\x8b\\x90\\xb7\\xa9&\\x1d\\x1f\\xc1z5ARO\\xfc\\xa4K\\xa43\\x88\\xd6J\\x98\\x87<,J6\\xa8\\xb0\\x8d\\x0e\\xd0\\xae\\x9ff%7\\x0c\\x9d\\xf0\\xda\\x02`\\x02\\x8d&\\xf2S\\xf0\\x9bWi\"]\n",
      "Bad pipe message: %s [b'\\xa3\\x05}3\\xd3\\x85F\\xc3g;\\xe7\\x8bG\\xc5\\x02\\xd8\\xf0\\x84\\xcd\\xf7\\xbe\\xe7\\xb5\\x1b\\xf6av\\xdd<\\x95\\xde\\x00\\xb0\\x19\\xf9\\x10\\x0f\\x10\\t\\x95*S\\x97\\xf7\\x0b \\xc7\\x00\\xc9\\x8cl|\\x9c\\xce<\\xc2|\\xf1\\x100\\x98\\xd0\\x03\\xa7\\xfc\\xcc\\x00\\xfaf\\xeb@`u\\xb9\\x85\\xb7\\x82;\\xb6\\xd8\\xe1\\x02\\x19\\x1d\\xcc\\x93x\\xb0[\\xa9v\\xb0\\x9d\\xf1A\\x00\\x1d\\x00 \\x90w\\xd0\\x88\\x14\\x13\\x99S{\\xa4u\\xc1\\xff@t\\x1eSS\\xaa\\x10Lr\\xe1\\xc7\\xbf\\'\\'g\\x9dt\\x13\\x00\\x00-\\x00\\x02\\x01\\x01\\x00\\x17\\x00\\x00\\xfe\\r\\x00\\xfa\\x00\\x00\\x01\\x00\\x01T\\x00 \\x02\\xcf\\xf2J\\n\\xe9\\xd7U\\x8e\\x0e^\\xd0\\x8b\\xc1\\xa0\\xbb\\'\\x07\\x8f\\xab\\x90[\\xb9;\\xf8\\xeb?\\xd3\\xb8\\xcf\\x04\"\\x00\\xd0\\xfa\\x87ae\\xe1\\x0c\\x01\\x0bL\\xf0w\\xb3S;\\xb2\\xad\\x14\\xf2P\\xc34Fa\\xa6\\x97\\xcf\\xcf\\xafw&\\xbc\\xbc\\xd8\\xb7B\\xab\\xb0\\xaa\\xf9\\xce\\xdf2\\xa7\\xa0F\\xba\\x0f07\\xfa\\xd7@:\\xcf\\x01:', b'\\xbb\"\\xe7\\xab\\x9fy\\xbbrw,\\x94\\xb7B\\xcb<\\xad\\xf2G\\t\\x1a\\xba\\xb2\\xa6\\x16 \\x18\\r\\x87[\\xb4\\xc3\\xc4\\xedg:\\xb5\\x10\\x97\\x0e)\\xe7\\xd35gJ\\xc3F6,-&\\xf3W\\x94\\x8a\\x19\\xe8\\xe3\\x1d \\xe0\\xf7\\xb4p']\n",
      "Bad pipe message: %s [b'\\xf9\\xbeYaYF\\xfe\\x1f64$\\xdd\\\\\"Yy\\xf5\\xa0/\\xdaS\\xe5 \\xfb\\xc4A', b'\\x12\\xae\\x80\\xce\\xc3<~E\\xff\\x8e1\\xde\\x1b\\x17\\xa5MRl\\x06aa\\xe9\\xb7\\xa8\\x07\\x87~\\xfc\\x87\\xe6\\xa6\\xf3\\xb1\\xd1?\\xfeL%(\\xb2z\\xb2\\xe4?>s\\x16\\x80l\\x9e1/\\xd6\\xc8o\\xaaDi\\x00\\x05\\x00\\x03\\x02h2\\x00\\r\\x00\\x12\\x00\\x10\\x04\\x03\\x08\\x04\\x04\\x01\\x05\\x03\\x08\\x05\\x05\\x01\\x08\\x06\\x06\\x01\\x00#\\x00\\x00\\x00+\\x00\\x07\\x06\\xda\\xda\\x03\\x04\\x03\\x03\\x00\\x05\\x00\\x05\\x01\\x00\\x00\\x00\\x00\\xff\\x01\\x00\\x01\\x00\\x00\\x10\\x00\\x0e\\x00\\x0c\\x02h2\\x08http/1.1\\x00\\x12\\x00\\x00\\x00\\x0b\\x00\\x02\\x01\\x00\\x00\\n\\x00\\x0c\\x00\\nJJc\\x99\\x00\\x1d\\x00']\n",
      " 84%|████████▍ | 42/50 [15:38:25<3:04:38, 1384.86s/it]"
     ]
    },
    {
     "name": "stdout",
     "output_type": "stream",
     "text": [
      "Epoch 42/50, Train Loss: 0.6585,           Validation Loss: 0.8937, Duration: 0:23:20.351552, Best Val Epoch: 11\n"
     ]
    },
    {
     "name": "stderr",
     "output_type": "stream",
     "text": [
      " 86%|████████▌ | 43/50 [16:01:09<2:40:50, 1378.61s/it]"
     ]
    },
    {
     "name": "stdout",
     "output_type": "stream",
     "text": [
      "Epoch 43/50, Train Loss: 0.6578,           Validation Loss: 0.9000, Duration: 0:22:44.035302, Best Val Epoch: 11\n"
     ]
    },
    {
     "name": "stderr",
     "output_type": "stream",
     "text": [
      " 88%|████████▊ | 44/50 [16:24:00<2:17:37, 1376.21s/it]"
     ]
    },
    {
     "name": "stdout",
     "output_type": "stream",
     "text": [
      "Epoch 44/50, Train Loss: 0.6568,           Validation Loss: 0.8984, Duration: 0:22:50.587949, Best Val Epoch: 11\n"
     ]
    },
    {
     "name": "stderr",
     "output_type": "stream",
     "text": [
      " 90%|█████████ | 45/50 [16:47:07<1:54:57, 1379.53s/it]"
     ]
    },
    {
     "name": "stdout",
     "output_type": "stream",
     "text": [
      "Epoch 45/50, Train Loss: 0.6561,           Validation Loss: 0.8879, Duration: 0:23:07.278957, Best Val Epoch: 11\n"
     ]
    },
    {
     "name": "stderr",
     "output_type": "stream",
     "text": [
      " 92%|█████████▏| 46/50 [17:10:15<1:32:08, 1382.22s/it]"
     ]
    },
    {
     "name": "stdout",
     "output_type": "stream",
     "text": [
      "Epoch 46/50, Train Loss: 0.6553,           Validation Loss: 0.8964, Duration: 0:23:08.496269, Best Val Epoch: 11\n"
     ]
    },
    {
     "name": "stderr",
     "output_type": "stream",
     "text": [
      " 94%|█████████▍| 47/50 [17:33:24<1:09:12, 1384.07s/it]"
     ]
    },
    {
     "name": "stdout",
     "output_type": "stream",
     "text": [
      "Epoch 47/50, Train Loss: 0.6538,           Validation Loss: 0.9028, Duration: 0:23:08.384032, Best Val Epoch: 11\n"
     ]
    },
    {
     "name": "stderr",
     "output_type": "stream",
     "text": [
      " 96%|█████████▌| 48/50 [17:56:24<46:05, 1382.81s/it]  "
     ]
    },
    {
     "name": "stdout",
     "output_type": "stream",
     "text": [
      "Epoch 48/50, Train Loss: 0.6537,           Validation Loss: 0.9010, Duration: 0:22:59.870838, Best Val Epoch: 11\n"
     ]
    },
    {
     "name": "stderr",
     "output_type": "stream",
     "text": [
      " 98%|█████████▊| 49/50 [18:19:26<23:02, 1382.54s/it]"
     ]
    },
    {
     "name": "stdout",
     "output_type": "stream",
     "text": [
      "Epoch 49/50, Train Loss: 0.6528,           Validation Loss: 0.9014, Duration: 0:23:01.911367, Best Val Epoch: 11\n"
     ]
    },
    {
     "name": "stderr",
     "output_type": "stream",
     "text": [
      "100%|██████████| 50/50 [18:42:28<00:00, 1346.97s/it]"
     ]
    },
    {
     "name": "stdout",
     "output_type": "stream",
     "text": [
      "Epoch 50/50, Train Loss: 0.6520,           Validation Loss: 0.8937, Duration: 0:23:02.430576, Best Val Epoch: 11\n"
     ]
    },
    {
     "name": "stderr",
     "output_type": "stream",
     "text": [
      "\n"
     ]
    }
   ],
   "source": [
    "train_losses, val_losses = batch_gd(model, criterion, optimizer, \n",
    "                                    train_loader, val_loader, epochs=50)"
   ]
  },
  {
   "cell_type": "code",
   "execution_count": 18,
   "id": "05068d6c-b19e-422f-a642-2aa4d33fa18a",
   "metadata": {},
   "outputs": [
    {
     "data": {
      "text/plain": [
       "<matplotlib.legend.Legend at 0x5d50e7310>"
      ]
     },
     "execution_count": 18,
     "metadata": {},
     "output_type": "execute_result"
    },
    {
     "data": {
      "image/png": "[encoded data removed]",
      "text/plain": [
       "<Figure size 1500x600 with 1 Axes>"
      ]
     },
     "metadata": {},
     "output_type": "display_data"
    }
   ],
   "source": [
    "plt.figure(figsize=(15,6))\n",
    "plt.plot(train_losses, label='train loss')\n",
    "plt.plot(val_losses, label='validation loss')\n",
    "plt.legend()"
   ]
  },
  {
   "cell_type": "markdown",
   "id": "d2310525-5aa9-452a-9080-738a21548987",
   "metadata": {},
   "source": [
    "#### Model Testing"
   ]
  },
  {
   "cell_type": "code",
   "execution_count": 19,
   "id": "1f31b8b3-e78a-4f51-80b5-d02085b2c96e",
   "metadata": {},
   "outputs": [
    {
     "name": "stderr",
     "output_type": "stream",
     "text": [
      "/var/folders/tk/64xjfsls2nd0mk3dt_4z512h0000gn/T/ipykernel_39698/1217818421.py:1: FutureWarning: You are using `torch.load` with `weights_only=False` (the current default value), which uses the default pickle module implicitly. It is possible to construct malicious pickle data which will execute arbitrary code during unpickling (See https://github.com/pytorch/pytorch/blob/main/SECURITY.md#untrusted-models for more details). In a future release, the default value for `weights_only` will be flipped to `True`. This limits the functions that could be executed during unpickling. Arbitrary objects will no longer be allowed to be loaded via this mode unless they are explicitly allowlisted by the user via `torch.serialization.add_safe_globals`. We recommend you start setting `weights_only=True` for any use case where you don't have full control of the loaded file. Please open an issue on GitHub for any issues related to this experimental feature.\n",
      "  model = torch.load('best_val_model_pytorch')\n"
     ]
    },
    {
     "name": "stdout",
     "output_type": "stream",
     "text": [
      "Test acc: 0.7334\n"
     ]
    }
   ],
   "source": [
    "model = torch.load('best_val_model_pytorch')\n",
    "\n",
    "n_correct = 0.\n",
    "n_total = 0.\n",
    "for inputs, targets in test_loader:\n",
    "    # Move to GPU\n",
    "    inputs, targets = inputs.to(device, dtype=torch.float), targets.to(device, dtype=torch.int64)\n",
    "\n",
    "    # Forward pass\n",
    "    outputs = model(inputs)\n",
    "    \n",
    "    # Get prediction\n",
    "    # torch.max returns both max and argmax\n",
    "    _, predictions = torch.max(outputs, 1)\n",
    "\n",
    "    # update counts\n",
    "    n_correct += (predictions == targets).sum().item()\n",
    "    n_total += targets.shape[0]\n",
    "\n",
    "test_acc = n_correct / n_total\n",
    "print(f\"Test acc: {test_acc:.4f}\")"
   ]
  },
  {
   "cell_type": "code",
   "execution_count": 20,
   "id": "50f21796-447c-4a05-a756-e4606a471bb5",
   "metadata": {},
   "outputs": [],
   "source": [
    "# model = torch.load('best_val_model_pytorch')\n",
    "all_targets = []\n",
    "all_predictions = []\n",
    "\n",
    "for inputs, targets in test_loader:\n",
    "    # Move to GPU\n",
    "    inputs, targets = inputs.to(device, dtype=torch.float), targets.to(device, dtype=torch.int64)\n",
    "\n",
    "    # Forward pass\n",
    "    outputs = model(inputs)\n",
    "    \n",
    "    # Get prediction\n",
    "    # torch.max returns both max and argmax\n",
    "    _, predictions = torch.max(outputs, 1)\n",
    "\n",
    "    all_targets.append(targets.cpu().numpy())\n",
    "    all_predictions.append(predictions.cpu().numpy())\n",
    "\n",
    "all_targets = np.concatenate(all_targets)    \n",
    "all_predictions = np.concatenate(all_predictions) "
   ]
  },
  {
   "cell_type": "code",
   "execution_count": 21,
   "id": "7e459399-f979-40bc-979a-85ac42538d78",
   "metadata": {},
   "outputs": [
    {
     "name": "stdout",
     "output_type": "stream",
     "text": [
      "accuracy_score: 0.7334035902729984\n",
      "              precision    recall  f1-score   support\n",
      "\n",
      "           0     0.6985    0.7663    0.7308     47915\n",
      "           1     0.8474    0.6757    0.7519     48050\n",
      "           2     0.6813    0.7610    0.7189     43523\n",
      "\n",
      "    accuracy                         0.7334    139488\n",
      "   macro avg     0.7424    0.7343    0.7339    139488\n",
      "weighted avg     0.7444    0.7334    0.7344    139488\n",
      "\n"
     ]
    }
   ],
   "source": [
    "print('accuracy_score:', accuracy_score(all_targets, all_predictions))\n",
    "print(classification_report(all_targets, all_predictions, digits=4))"
   ]
  }
 ],
 "metadata": {
  "kernelspec": {
   "display_name": "Python 3 (ipykernel)",
   "language": "python",
   "name": "python3"
  },
  "language_info": {
   "codemirror_mode": {
    "name": "ipython",
    "version": 3
   },
   "file_extension": ".py",
   "mimetype": "text/x-python",
   "name": "python",
   "nbconvert_exporter": "python",
   "pygments_lexer": "ipython3",
   "version": "3.10.15"
  }
 },
 "nbformat": 4,
 "nbformat_minor": 5
}
